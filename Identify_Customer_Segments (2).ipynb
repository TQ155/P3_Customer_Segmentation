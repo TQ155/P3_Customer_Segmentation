{
 "cells": [
  {
   "cell_type": "markdown",
   "metadata": {},
   "source": [
    "# Project: Identify Customer Segments\n",
    "\n",
    "In this project, you will apply unsupervised learning techniques to identify segments of the population that form the core customer base for a mail-order sales company in Germany. These segments can then be used to direct marketing campaigns towards audiences that will have the highest expected rate of returns. The data that you will use has been provided by our partners at Bertelsmann Arvato Analytics, and represents a real-life data science task.\n",
    "\n",
    "This notebook will help you complete this task by providing a framework within which you will perform your analysis steps. In each step of the project, you will see some text describing the subtask that you will perform, followed by one or more code cells for you to complete your work. **Feel free to add additional code and markdown cells as you go along so that you can explore everything in precise chunks.** The code cells provided in the base template will outline only the major tasks, and will usually not be enough to cover all of the minor tasks that comprise it.\n",
    "\n",
    "It should be noted that while there will be precise guidelines on how you should handle certain tasks in the project, there will also be places where an exact specification is not provided. **There will be times in the project where you will need to make and justify your own decisions on how to treat the data.** These are places where there may not be only one way to handle the data. In real-life tasks, there may be many valid ways to approach an analysis task. One of the most important things you can do is clearly document your approach so that other scientists can understand the decisions you've made.\n",
    "\n",
    "At the end of most sections, there will be a Markdown cell labeled **Discussion**. In these cells, you will report your findings for the completed section, as well as document the decisions that you made in your approach to each subtask. **Your project will be evaluated not just on the code used to complete the tasks outlined, but also your communication about your observations and conclusions at each stage.**"
   ]
  },
  {
   "cell_type": "code",
   "execution_count": 1,
   "metadata": {},
   "outputs": [
    {
     "data": {
      "text/plain": [
       "'\\nImport note: The classroom currently uses sklearn version 0.19.\\nIf you need to use an imputer, it is available in sklearn.preprocessing.Imputer,\\ninstead of sklearn.impute as in newer versions of sklearn.\\n'"
      ]
     },
     "execution_count": 1,
     "metadata": {},
     "output_type": "execute_result"
    }
   ],
   "source": [
    "# import libraries here; add more as necessary\n",
    "import numpy as np\n",
    "import pandas as pd\n",
    "import matplotlib.pyplot as plt\n",
    "import seaborn as sns\n",
    "pd.set_option('display.max_columns', None)\n",
    "from sklearn.decomposition import PCA\n",
    "# magic word for producing visualizations in notebook\n",
    "%matplotlib inline\n",
    "\n",
    "'''\n",
    "Import note: The classroom currently uses sklearn version 0.19.\n",
    "If you need to use an imputer, it is available in sklearn.preprocessing.Imputer,\n",
    "instead of sklearn.impute as in newer versions of sklearn.\n",
    "'''"
   ]
  },
  {
   "cell_type": "markdown",
   "metadata": {},
   "source": [
    "### Step 0: Load the Data\n",
    "\n",
    "There are four files associated with this project (not including this one):\n",
    "\n",
    "- `Udacity_AZDIAS_Subset.csv`: Demographics data for the general population of Germany; 891211 persons (rows) x 85 features (columns).\n",
    "- `Udacity_CUSTOMERS_Subset.csv`: Demographics data for customers of a mail-order company; 191652 persons (rows) x 85 features (columns).\n",
    "- `Data_Dictionary.md`: Detailed information file about the features in the provided datasets.\n",
    "- `AZDIAS_Feature_Summary.csv`: Summary of feature attributes for demographics data; 85 features (rows) x 4 columns\n",
    "\n",
    "Each row of the demographics files represents a single person, but also includes information outside of individuals, including information about their household, building, and neighborhood. You will use this information to cluster the general population into groups with similar demographic properties. Then, you will see how the people in the customers dataset fit into those created clusters. The hope here is that certain clusters are over-represented in the customers data, as compared to the general population; those over-represented clusters will be assumed to be part of the core userbase. This information can then be used for further applications, such as targeting for a marketing campaign.\n",
    "\n",
    "To start off with, load in the demographics data for the general population into a pandas DataFrame, and do the same for the feature attributes summary. Note for all of the `.csv` data files in this project: they're semicolon (`;`) delimited, so you'll need an additional argument in your [`read_csv()`](https://pandas.pydata.org/pandas-docs/stable/generated/pandas.read_csv.html) call to read in the data properly. Also, considering the size of the main dataset, it may take some time for it to load completely.\n",
    "\n",
    "Once the dataset is loaded, it's recommended that you take a little bit of time just browsing the general structure of the dataset and feature summary file. You'll be getting deep into the innards of the cleaning in the first major step of the project, so gaining some general familiarity can help you get your bearings."
   ]
  },
  {
   "cell_type": "code",
   "execution_count": 2,
   "metadata": {},
   "outputs": [],
   "source": [
    "# Load in the general demographics data.\n",
    "azdias = pd.read_csv('Udacity_AZDIAS_Subset.csv',sep=';')\n",
    "azdiascopy = azdias.copy()\n",
    "# Load in the feature summary file.\n",
    "feat_info = pd.read_csv('AZDIAS_Feature_Summary.csv',sep=';',header=None)\n",
    "new_header = feat_info.iloc[0]\n",
    "feat_info = feat_info[1:] \n",
    "feat_info.columns = new_header"
   ]
  },
  {
   "cell_type": "code",
   "execution_count": 3,
   "metadata": {},
   "outputs": [
    {
     "name": "stdout",
     "output_type": "stream",
     "text": [
      "azdias number of rows 891221 , number of columns 85\n",
      "feat_info number of rows 85 , number of columns 4\n"
     ]
    }
   ],
   "source": [
    "# Check the structure of the data after it's loaded (e.g. print the number of\n",
    "# rows and columns, print the first few rows).\n",
    "#feat_info.head()\n",
    "print(\"azdias number of rows {} , number of columns {}\".format(len(azdias.index) , len(azdias.columns)))\n",
    "print(\"feat_info number of rows {} , number of columns {}\".format(len(feat_info.index) , len(feat_info.columns)))"
   ]
  },
  {
   "cell_type": "markdown",
   "metadata": {},
   "source": [
    "> **Tip**: Add additional cells to keep everything in reasonably-sized chunks! Keyboard shortcut `esc --> a` (press escape to enter command mode, then press the 'A' key) adds a new cell before the active cell, and `esc --> b` adds a new cell after the active cell. If you need to convert an active cell to a markdown cell, use `esc --> m` and to convert to a code cell, use `esc --> y`. \n",
    "\n",
    "## Step 1: Preprocessing\n",
    "\n",
    "### Step 1.1: Assess Missing Data\n",
    "\n",
    "The feature summary file contains a summary of properties for each demographics data column. You will use this file to help you make cleaning decisions during this stage of the project. First of all, you should assess the demographics data in terms of missing data. Pay attention to the following points as you perform your analysis, and take notes on what you observe. Make sure that you fill in the **Discussion** cell with your findings and decisions at the end of each step that has one!\n",
    "\n",
    "#### Step 1.1.1: Convert Missing Value Codes to NaNs\n",
    "The fourth column of the feature attributes summary (loaded in above as `feat_info`) documents the codes from the data dictionary that indicate missing or unknown data. While the file encodes this as a list (e.g. `[-1,0]`), this will get read in as a string object. You'll need to do a little bit of parsing to make use of it to identify and clean the data. Convert data that matches a 'missing' or 'unknown' value code into a numpy NaN value. You might want to see how much data takes on a 'missing' or 'unknown' code, and how much data is naturally missing, as a point of interest.\n",
    "\n",
    "**As one more reminder, you are encouraged to add additional cells to break up your analysis into manageable chunks.**"
   ]
  },
  {
   "cell_type": "code",
   "execution_count": 4,
   "metadata": {},
   "outputs": [
    {
     "name": "stdout",
     "output_type": "stream",
     "text": [
      "Number of  missing values before cleaning is 4896838\n",
      "Total number of missing values after conversion is 8373929\n"
     ]
    }
   ],
   "source": [
    "# Identify missing or unknown data values and convert them to NaNs.\n",
    "print('Number of  missing values before cleaning is {}'.format(azdias.isnull().sum().sum()))\n",
    "\n",
    "for indx in range(len(feat_info)):\n",
    "    missing_or_unknown = feat_info.iloc[indx]['missing_or_unknown']\n",
    "    missing_or_unknown = missing_or_unknown.strip('[')\n",
    "    missing_or_unknown = missing_or_unknown.strip(']')\n",
    "    missing_or_unknown = missing_or_unknown.split(sep=',')\n",
    "    missing_or_unknown = [int(value) if (value!='X' and value!='XX' and value!='') else value for value in missing_or_unknown]\n",
    "    if missing_or_unknown != ['']:\n",
    "        azdias = azdias.replace({feat_info.iloc[indx]['attribute']: missing_or_unknown}, np.nan)\n",
    "print('Total number of missing values after conversion is {}'.format(azdias.isnull().sum().sum()))\n"
   ]
  },
  {
   "cell_type": "markdown",
   "metadata": {},
   "source": [
    "#### Step 1.1.2: Assess Missing Data in Each Column\n",
    "\n",
    "How much missing data is present in each column? There are a few columns that are outliers in terms of the proportion of values that are missing. You will want to use matplotlib's [`hist()`](https://matplotlib.org/api/_as_gen/matplotlib.pyplot.hist.html) function to visualize the distribution of missing value counts to find these columns. Identify and document these columns. While some of these columns might have justifications for keeping or re-encoding the data, for this project you should just remove them from the dataframe. (Feel free to make remarks about these outlier columns in the discussion, however!)\n",
    "\n",
    "For the remaining features, are there any patterns in which columns have, or share, missing data?"
   ]
  },
  {
   "cell_type": "code",
   "execution_count": 5,
   "metadata": {},
   "outputs": [],
   "source": [
    "# Perform an assessment of how much missing data there is in each column of the\n",
    "# dataset.\n",
    "missing_per_column =(azdias.isnull().sum()/len(azdias))*100"
   ]
  },
  {
   "cell_type": "code",
   "execution_count": 6,
   "metadata": {},
   "outputs": [
    {
     "data": {
      "image/png": "[encoded data removed]",
      "text/plain": [
       "<matplotlib.figure.Figure at 0x7f788dabe198>"
      ]
     },
     "metadata": {
      "needs_background": "light"
     },
     "output_type": "display_data"
    }
   ],
   "source": [
    "# Investigate patterns in the amount of missing data in each column.\n",
    "plt.hist(missing_per_column, bins=100)\n",
    "plt.ylabel('number of columns')\n",
    "plt.xlabel('Percentage of Missings')\n",
    "plt.show()"
   ]
  },
  {
   "cell_type": "code",
   "execution_count": 7,
   "metadata": {},
   "outputs": [
    {
     "name": "stdout",
     "output_type": "stream",
     "text": [
      "['AGER_TYP', 'GEBURTSJAHR', 'TITEL_KZ', 'ALTER_HH', 'KK_KUNDENTYP', 'KBA05_BAUMAX']\n",
      "azdias number of rows after Nan column cleaning 891221 , number of columns 79\n"
     ]
    }
   ],
   "source": [
    "# Remove the outlier columns from the dataset. (You'll perform other data\n",
    "# engineering tasks such as re-encoding and imputation later.)\n",
    "more_than_20_percent_columns = missing_per_column[missing_per_column>20]\n",
    "more20 = more_than_20_percent_columns.index.tolist()\n",
    "for i in range(len(more20)):\n",
    "    azdias.drop(more20[i], axis=1, inplace=True)\n",
    "    \n",
    "print(more20)    \n",
    "print(\"azdias number of rows after Nan column cleaning {} , number of columns {}\".format(len(azdias.index) , len(azdias.columns)))\n"
   ]
  },
  {
   "cell_type": "code",
   "execution_count": 8,
   "metadata": {},
   "outputs": [],
   "source": [
    "#print(\"azdias number of rows after Nan column cleaning {} , number of columns {}\".format(len(azdias.index) , len(azdias.columns)))\n"
   ]
  },
  {
   "cell_type": "markdown",
   "metadata": {},
   "source": [
    "#### Discussion 1.1.2: Assess Missing Data in Each Column\n",
    "\n",
    "['AGER_TYP', 'GEBURTSJAHR', 'TITEL_KZ', 'ALTER_HH', 'KK_KUNDENTYP', 'KBA05_BAUMAX'] this list has the columns to be deleted since they have more than 20 percent missing of data"
   ]
  },
  {
   "cell_type": "markdown",
   "metadata": {},
   "source": [
    "#### Step 1.1.3: Assess Missing Data in Each Row\n",
    "\n",
    "Now, you'll perform a similar assessment for the rows of the dataset. How much data is missing in each row? As with the columns, you should see some groups of points that have a very different numbers of missing values. Divide the data into two subsets: one for data points that are above some threshold for missing values, and a second subset for points below that threshold.\n",
    "\n",
    "In order to know what to do with the outlier rows, we should see if the distribution of data values on columns that are not missing data (or are missing very little data) are similar or different between the two groups. Select at least five of these columns and compare the distribution of values.\n",
    "- You can use seaborn's [`countplot()`](https://seaborn.pydata.org/generated/seaborn.countplot.html) function to create a bar chart of code frequencies and matplotlib's [`subplot()`](https://matplotlib.org/api/_as_gen/matplotlib.pyplot.subplot.html) function to put bar charts for the two subplots side by side.\n",
    "- To reduce repeated code, you might want to write a function that can perform this comparison, taking as one of its arguments a column to be compared.\n",
    "\n",
    "Depending on what you observe in your comparison, this will have implications on how you approach your conclusions later in the analysis. If the distributions of non-missing features look similar between the data with many missing values and the data with few or no missing values, then we could argue that simply dropping those points from the analysis won't present a major issue. On the other hand, if the data with many missing values looks very different from the data with few or no missing values, then we should make a note on those data as special. We'll revisit these data later on. **Either way, you should continue your analysis for now using just the subset of the data with few or no missing values.**"
   ]
  },
  {
   "cell_type": "code",
   "execution_count": 9,
   "metadata": {},
   "outputs": [],
   "source": [
    "# How much data is missing in each row of the dataset?\n",
    "missing_per_row = (azdias.isnull().sum(axis=1)/len(azdias.columns))*100"
   ]
  },
  {
   "cell_type": "code",
   "execution_count": 10,
   "metadata": {},
   "outputs": [
    {
     "name": "stdout",
     "output_type": "stream",
     "text": [
      "number of rows missing more than 20% of the data is 98934 , while number of rows missing less than 20% 792287\n"
     ]
    }
   ],
   "source": [
    "# Write code to divide the data into two subsets based on the number of missing\n",
    "# values in each row.\n",
    "\n",
    "cut_off = 20 \n",
    "number_rows_missing_more_than_20 = missing_per_row[missing_per_row > cut_off].count()                               \n",
    "number_rows_missing_less_than_20 = missing_per_row[missing_per_row < cut_off].count()\n",
    "print(\"number of rows missing more than 20% of the data is {} , while number of rows missing less than 20% {}\".format(number_rows_missing_more_than_20 , number_rows_missing_less_than_20))\n",
    "\n",
    "rows_missing_more_than_20 = missing_per_row[missing_per_row > cut_off]\n",
    "ind_rmmt20l = rows_missing_more_than_20.index.tolist() # should be deleted\n",
    "rows_missing_less_than_20 = missing_per_row[missing_per_row < cut_off]\n",
    "ind_rmlt20l = rows_missing_less_than_20.index.tolist()\n",
    "azdias_more_20 = azdias.drop(azdias.index[ind_rmmt20l])\n",
    "azdias_less_20 = azdias.drop(azdias.index[ind_rmlt20l])"
   ]
  },
  {
   "cell_type": "code",
   "execution_count": 11,
   "metadata": {},
   "outputs": [],
   "source": [
    "#print(\"this is azdias with only rows that has less than 20 percent missing\")\n",
    "#azdias_more_20 # this is the one less informative (has more missings in their row)"
   ]
  },
  {
   "cell_type": "code",
   "execution_count": 12,
   "metadata": {},
   "outputs": [],
   "source": [
    "#print(\"this is azdias with only rows that has more than 20 percent missing\")\n",
    "#azdias_less_20.head() # this is the one that is more informative "
   ]
  },
  {
   "cell_type": "code",
   "execution_count": 13,
   "metadata": {},
   "outputs": [],
   "source": [
    "uniq_ = [] # list of uniq values in each coluymn to bes tested \n",
    "count_ = [] # Count of each unique value to be tested \n",
    "uniq_2 = [] # same for azdiac - azdias < 20 rows Naan dropped\n",
    "count_2 = [] # same for azdiac - azdias < 20 rows Naan dropped\n",
    "columns_to_test = [] # 5 columns to be tested \n",
    "\n",
    "for i in range(5):\n",
    "    unique_values, counts = np.unique(azdias_more_20.iloc[:, i],return_counts=True)\n",
    "    uniq_.append(unique_values)\n",
    "    count_.append(counts)\n",
    "    unique_values2, counts2 = np.unique(azdias_less_20.iloc[:, i],return_counts=True)\n",
    "    uniq_2.append(unique_values2)\n",
    "    count_2.append(counts2)\n",
    "    columns_to_test.append(azdias_less_20.columns[i])\n"
   ]
  },
  {
   "cell_type": "code",
   "execution_count": 14,
   "metadata": {},
   "outputs": [
    {
     "data": {
      "image/png": "[encoded data removed]",
      "text/plain": [
       "<matplotlib.figure.Figure at 0x7f7868acb240>"
      ]
     },
     "metadata": {
      "needs_background": "light"
     },
     "output_type": "display_data"
    },
    {
     "data": {
      "image/png": "[encoded data removed]",
      "text/plain": [
       "<matplotlib.figure.Figure at 0x7f783c8a73c8>"
      ]
     },
     "metadata": {
      "needs_background": "light"
     },
     "output_type": "display_data"
    },
    {
     "data": {
      "image/png": "[encoded data removed]",
      "text/plain": [
       "<matplotlib.figure.Figure at 0x7f783c6e9128>"
      ]
     },
     "metadata": {
      "needs_background": "light"
     },
     "output_type": "display_data"
    },
    {
     "data": {
      "image/png": "[encoded data removed]",
      "text/plain": [
       "<matplotlib.figure.Figure at 0x7f7839feb198>"
      ]
     },
     "metadata": {
      "needs_background": "light"
     },
     "output_type": "display_data"
    },
    {
     "data": {
      "image/png": "[encoded data removed]",
      "text/plain": [
       "<matplotlib.figure.Figure at 0x7f7839ac4320>"
      ]
     },
     "metadata": {
      "needs_background": "light"
     },
     "output_type": "display_data"
    }
   ],
   "source": [
    "for j in range(5):\n",
    "    for i in range(1):\n",
    "        fig = plt.figure(figsize=(10,5))\n",
    "        \n",
    "        plt.subplot(i+1, 2, 1)\n",
    "        plt.bar(uniq_[j], count_[j], color='navy') \n",
    "        plt.title('azdiac - more 20% rows Naan dropped')\n",
    "        plt.xlabel(str(columns_to_test[j]))\n",
    "        plt.ylabel('Number of Records')\n",
    "        ###################################################################\n",
    "        plt.subplot(i+1, 2, 2)\n",
    "        plt.bar(uniq_2[j], count_2[j], color='red') \n",
    "        plt.title('azdiac - less 20% rows Naan dropped')\n",
    "        plt.xlabel(str(columns_to_test[j]))\n",
    "        \n"
   ]
  },
  {
   "cell_type": "markdown",
   "metadata": {},
   "source": [
    "#### Discussion 1.1.3: Assess Missing Data in Each Row\n",
    "\n",
    "for the tested 5 columns , we can see that the one on the blue represents the dataset when rows that have missing values more than 20 delete while the red when the opposite. we can see that the blue one has more information. For example in FINANZ_SPARER there are far more records for each unique value 1,2,3,4,5  "
   ]
  },
  {
   "cell_type": "markdown",
   "metadata": {},
   "source": [
    "### Step 1.2: Select and Re-Encode Features\n",
    "\n",
    "Checking for missing data isn't the only way in which you can prepare a dataset for analysis. Since the unsupervised learning techniques to be used will only work on data that is encoded numerically, you need to make a few encoding changes or additional assumptions to be able to make progress. In addition, while almost all of the values in the dataset are encoded using numbers, not all of them represent numeric values. Check the third column of the feature summary (`feat_info`) for a summary of types of measurement.\n",
    "- For numeric and interval data, these features can be kept without changes.\n",
    "- Most of the variables in the dataset are ordinal in nature. While ordinal values may technically be non-linear in spacing, make the simplifying assumption that the ordinal variables can be treated as being interval in nature (that is, kept without any changes).\n",
    "- Special handling may be necessary for the remaining two variable types: categorical, and 'mixed'.\n",
    "\n",
    "In the first two parts of this sub-step, you will perform an investigation of the categorical and mixed-type features and make a decision on each of them, whether you will keep, drop, or re-encode each. Then, in the last part, you will create a new data frame with only the selected and engineered columns.\n",
    "\n",
    "Data wrangling is often the trickiest part of the data analysis process, and there's a lot of it to be done here. But stick with it: once you're done with this step, you'll be ready to get to the machine learning parts of the project!"
   ]
  },
  {
   "cell_type": "markdown",
   "metadata": {},
   "source": [
    "#### Step 1.2.1: Re-Encode Categorical Features\n",
    "\n",
    "For categorical data, you would ordinarily need to encode the levels as dummy variables. Depending on the number of categories, perform one of the following:\n",
    "- For binary (two-level) categoricals that take numeric values, you can keep them without needing to do anything.\n",
    "- There is one binary variable that takes on non-numeric values. For this one, you need to re-encode the values as numbers or create a dummy variable.\n",
    "- For multi-level categoricals (three or more values), you can choose to encode the values using multiple dummy variables (e.g. via [OneHotEncoder](http://scikit-learn.org/stable/modules/generated/sklearn.preprocessing.OneHotEncoder.html)), or (to keep things straightforward) just drop them from the analysis. As always, document your choices in the Discussion section."
   ]
  },
  {
   "cell_type": "code",
   "execution_count": 15,
   "metadata": {},
   "outputs": [],
   "source": [
    "# Assess categorical variables: which are binary, which are multi-level, and\n",
    "# which one needs to be re-encoded?\n",
    "ordinal_columns = [] ;  binary_categorical_columns = [] ;multi_level_categorical_columns = [] ; numeric_columns = [] ; mixed_columns = [] ; interval_columns = [];"
   ]
  },
  {
   "cell_type": "code",
   "execution_count": 16,
   "metadata": {},
   "outputs": [
    {
     "data": {
      "text/html": [
       "<div>\n",
       "<style scoped>\n",
       "    .dataframe tbody tr th:only-of-type {\n",
       "        vertical-align: middle;\n",
       "    }\n",
       "\n",
       "    .dataframe tbody tr th {\n",
       "        vertical-align: top;\n",
       "    }\n",
       "\n",
       "    .dataframe thead th {\n",
       "        text-align: right;\n",
       "    }\n",
       "</style>\n",
       "<table border=\"1\" class=\"dataframe\">\n",
       "  <thead>\n",
       "    <tr style=\"text-align: right;\">\n",
       "      <th></th>\n",
       "      <th>attribute</th>\n",
       "      <th>information_level</th>\n",
       "      <th>type</th>\n",
       "      <th>missing_or_unknown</th>\n",
       "    </tr>\n",
       "  </thead>\n",
       "  <tbody>\n",
       "    <tr>\n",
       "      <th>0</th>\n",
       "      <td>ALTERSKATEGORIE_GROB</td>\n",
       "      <td>person</td>\n",
       "      <td>ordinal</td>\n",
       "      <td>[-1,0,9]</td>\n",
       "    </tr>\n",
       "    <tr>\n",
       "      <th>1</th>\n",
       "      <td>ANREDE_KZ</td>\n",
       "      <td>person</td>\n",
       "      <td>categorical</td>\n",
       "      <td>[-1,0]</td>\n",
       "    </tr>\n",
       "    <tr>\n",
       "      <th>2</th>\n",
       "      <td>CJT_GESAMTTYP</td>\n",
       "      <td>person</td>\n",
       "      <td>categorical</td>\n",
       "      <td>[0]</td>\n",
       "    </tr>\n",
       "    <tr>\n",
       "      <th>3</th>\n",
       "      <td>FINANZ_MINIMALIST</td>\n",
       "      <td>person</td>\n",
       "      <td>ordinal</td>\n",
       "      <td>[-1]</td>\n",
       "    </tr>\n",
       "    <tr>\n",
       "      <th>4</th>\n",
       "      <td>FINANZ_SPARER</td>\n",
       "      <td>person</td>\n",
       "      <td>ordinal</td>\n",
       "      <td>[-1]</td>\n",
       "    </tr>\n",
       "  </tbody>\n",
       "</table>\n",
       "</div>"
      ],
      "text/plain": [
       "0             attribute information_level         type missing_or_unknown\n",
       "0  ALTERSKATEGORIE_GROB            person      ordinal           [-1,0,9]\n",
       "1             ANREDE_KZ            person  categorical             [-1,0]\n",
       "2         CJT_GESAMTTYP            person  categorical                [0]\n",
       "3     FINANZ_MINIMALIST            person      ordinal               [-1]\n",
       "4         FINANZ_SPARER            person      ordinal               [-1]"
      ]
     },
     "execution_count": 16,
     "metadata": {},
     "output_type": "execute_result"
    }
   ],
   "source": [
    "# remove rows from feat_info that has the attribute (column name) which is NAN > 20 \n",
    "feat_info_more_20 = feat_info.copy()\n",
    "mask = feat_info_more_20['attribute'].isin(more20)\n",
    "feat_info_more_20 = feat_info_more_20[~mask]\n",
    "feat_info_more_20.reset_index(inplace = True , drop=True)\n",
    "feat_info_more_20.head()"
   ]
  },
  {
   "cell_type": "code",
   "execution_count": 17,
   "metadata": {},
   "outputs": [],
   "source": [
    "# GET the columns for each type \n",
    "ind_cat = feat_info_more_20[feat_info_more_20['type'] == \"categorical\"].index.tolist()\n",
    "cat_colunm_names = azdias_more_20.columns[ind_cat]\n",
    "ind_ord = feat_info_more_20[feat_info_more_20['type'] == \"ordinal\"].index.tolist()\n",
    "ind_num = feat_info_more_20[feat_info_more_20['type'] == \"numeric\"].index.tolist()\n",
    "ind_mix= feat_info_more_20[feat_info_more_20['type'] == \"mixed\"].index.tolist()\n",
    "mix_colunm_names = azdias_more_20.columns[ind_mix]\n",
    "ind_int= feat_info_more_20[feat_info_more_20['type'] == \"interval\"].index.tolist()\n"
   ]
  },
  {
   "cell_type": "code",
   "execution_count": 18,
   "metadata": {},
   "outputs": [],
   "source": [
    "cat_colunm_names = azdias_more_20.columns[ind_cat]\n",
    "cat_bin = {}\n",
    "cat_multi = {}\n",
    "for i , column in enumerate(cat_colunm_names): \n",
    "    if azdias_more_20.loc[:,cat_colunm_names[i]].nunique() == 2: \n",
    "        cat_bin[cat_colunm_names[i]] = azdias_more_20.loc[:,cat_colunm_names[i]].nunique() \n",
    "    else: \n",
    "        cat_multi[cat_colunm_names[i]] = azdias_more_20.loc[:,cat_colunm_names[i]].nunique()\n",
    "\n",
    "def merge_two_dicts(x, y):\n",
    "    z = x.copy()    \n",
    "    z.update(y)    \n",
    "    return z\n",
    "cat_d = merge_two_dicts(cat_bin, cat_multi)\n",
    "\n"
   ]
  },
  {
   "cell_type": "code",
   "execution_count": 19,
   "metadata": {},
   "outputs": [],
   "source": [
    "cat_multi_colunm_names = list(cat_multi.keys())\n",
    "cat_bin_colunm_names = list(cat_bin.keys())"
   ]
  },
  {
   "cell_type": "code",
   "execution_count": 20,
   "metadata": {},
   "outputs": [],
   "source": [
    "#################################Categorical#########################################"
   ]
  },
  {
   "cell_type": "code",
   "execution_count": 21,
   "metadata": {},
   "outputs": [],
   "source": [
    "# Categorical. Binary\n",
    "# if biary and string convert to numbers \n",
    "# here OST_WEST_KZ  w => 0 , O -> 1\n",
    "for i in range(len(cat_bin_colunm_names)):\n",
    "    if type(azdias_more_20.loc[:, cat_bin_colunm_names[i]].unique()[0]) == str: \n",
    "        # if the categorical column is bima\n",
    "        l = azdias_more_20.loc[:, cat_bin_colunm_names[i]].unique()\n",
    "        azdias_more_20[cat_bin_colunm_names[i]].replace({l[0]: 0, l[1]: 1}, inplace=True) "
   ]
  },
  {
   "cell_type": "code",
   "execution_count": 22,
   "metadata": {},
   "outputs": [],
   "source": [
    "#azdias_more_20.drop(columns='CAMEO_DEU_2015' , inplace=True)\n",
    "#cat_d.pop('CAMEO_DEU_2015') ; cat_multi.pop('CAMEO_DEU_2015') ; cat_multi_colunm_names.remove(\"CAMEO_DEU_2015\")"
   ]
  },
  {
   "cell_type": "code",
   "execution_count": 23,
   "metadata": {},
   "outputs": [],
   "source": [
    "cat_multi_colunm_names.remove('GEBAEUDETYP')\n",
    "cat_multi_colunm_names.remove('CAMEO_DEU_2015')"
   ]
  },
  {
   "cell_type": "code",
   "execution_count": 24,
   "metadata": {},
   "outputs": [],
   "source": [
    "azdias_more_20.drop(['GEBAEUDETYP' , 'CAMEO_DEU_2015'], inplace= True , axis=1)"
   ]
  },
  {
   "cell_type": "code",
   "execution_count": 25,
   "metadata": {},
   "outputs": [],
   "source": [
    "# delete CAMEO_DEU_2015 because it has so many categorires \n",
    "# delete GEBAEUDETYP becaise it has more unique values than the ones in the Udacity customer dataset\n",
    "#cat_d.pop('CAMEO_DEU_2015') ; cat_multi.pop('CAMEO_DEU_2015') ; cat_multi_colunm_names.remove(\"CAMEO_DEU_2015\")"
   ]
  },
  {
   "cell_type": "code",
   "execution_count": 26,
   "metadata": {},
   "outputs": [],
   "source": [
    "# Categorical. Multi -> get_dummies\n",
    "# X is a new dataframe that has the dummied columns \n",
    "X = azdias_more_20[cat_multi_colunm_names]\n",
    "azdias_more_20_multi_dum = pd.get_dummies(X , columns=X.columns , drop_first=True)"
   ]
  },
  {
   "cell_type": "code",
   "execution_count": 27,
   "metadata": {},
   "outputs": [],
   "source": [
    "# here we drop all cat columns since we dummied them in azdias_more_20_multi_dum\n",
    "azdias_more_20_no_multi_cat = azdias_more_20.drop(cat_multi_colunm_names, axis = 1)"
   ]
  },
  {
   "cell_type": "code",
   "execution_count": 28,
   "metadata": {},
   "outputs": [],
   "source": [
    "# combine both\n",
    "azdias_cat = pd.concat([azdias_more_20_multi_dum, azdias_more_20_no_multi_cat], axis=1)"
   ]
  },
  {
   "cell_type": "markdown",
   "metadata": {},
   "source": [
    "#### Step 1.2.2: Engineer Mixed-Type Features\n",
    "\n",
    "There are a handful of features that are marked as \"mixed\" in the feature summary that require special treatment in order to be included in the analysis. There are two in particular that deserve attention; the handling of the rest are up to your own choices:\n",
    "- \"PRAEGENDE_JUGENDJAHRE\" combines information on three dimensions: generation by decade, movement (mainstream vs. avantgarde), and nation (east vs. west). While there aren't enough levels to disentangle east from west, you should create two new variables to capture the other two dimensions: an interval-type variable for decade, and a binary variable for movement.\n",
    "- \"CAMEO_INTL_2015\" combines information on two axes: wealth and life stage. Break up the two-digit codes by their 'tens'-place and 'ones'-place digits into two new ordinal variables (which, for the purposes of this project, is equivalent to just treating them as their raw numeric values).\n",
    "- If you decide to keep or engineer new features around the other mixed-type features, make sure you note your steps in the Discussion section.\n",
    "\n",
    "Be sure to check `Data_Dictionary.md` for the details needed to finish these tasks."
   ]
  },
  {
   "cell_type": "markdown",
   "metadata": {},
   "source": [
    "#### Discussion 1.2.1: Re-Encode Categorical Features\n",
    "\n",
    "on categorical i deleted only on column that had 44 deatures , also made sure the binary stringed ones are converted to numbers. while the numbered ones are left. However , all categoricals (except the 44 one) are dummied"
   ]
  },
  {
   "cell_type": "code",
   "execution_count": 3,
   "metadata": {},
   "outputs": [],
   "source": [
    "# dictionaries for PRAEGENDE_JUGENDJAHRE decade and movements \n",
    "#PRAEGENDE_JUGENDJAHRE_a_dict = {1: \"40s\" , 2: \"40s\" , 3: \"50s\" ,  4: \"50s\" ,  5: \"60s\" ,  6: \"60s\" ,  7: \"60s\" ,  8: \"70s\" ,  9: \"70s\" ,   10: \"80s\" ,  11: \"80s\" ,  12: \"80s\" , 13: \"80s\" ,  14: \"90s\" , 15: \"90s\" }                            \n",
    "PRAEGENDE_JUGENDJAHRE_a_dict = {1: 1 , 2: 1 , 3: 2 ,  4: 2 ,  5: 3 ,  6: 3 ,  7: 3 ,  8: 4 ,  9: 4 ,   10: 5 ,  11: 5 ,  12: 5 , 13: 5 ,  14: 6 , 15: 6 }                            \n",
    "\n",
    "PRAEGENDE_JUGENDJAHRE_b_dict = {1: \"Mainstream\" , 2: \"Avantgarde\" ,  3: \"Mainstream\" , 4: \"Avantgarde\" , 5: \"Mainstream\" , 6: \"Avantgarde\" ,  7: \"Avantgarde\" ,  8: \"Mainstream\" ,  9: \"Avantgarde\" ,  10: \"Mainstream\" , 11: \"Avantgarde\" , 12: \"Mainstream\" , 13: \"Avantgarde\" , 14: \"Mainstream\" , 15: \"Avantgarde\" }\n",
    "PRAEGENDE_JUGENDJAHRE_MOVEMENT_d = {\"Mainstream\" : 0 , \"Avantgarde\" :1}\n",
    "\n",
    "CAMEO_INTL_2015_a_dict = dict.fromkeys([\"11\",\"12\",\"13\",\"14\",\"15\"], 1.0)\n",
    "CAMEO_INTL_2015_a_dict.update(dict.fromkeys([\"21\",\"22\",\"23\",\"24\",\"25\"],2.0 ))\n",
    "CAMEO_INTL_2015_a_dict.update(dict.fromkeys([\"31\",\"32\",\"33\",\"34\",\"35\"], 3.0))\n",
    "CAMEO_INTL_2015_a_dict.update(dict.fromkeys([\"41\",\"42\",\"43\",\"44\",\"45\"],4.0))\n",
    "CAMEO_INTL_2015_a_dict.update(dict.fromkeys([\"51\",\"52\",\"53\",\"54\",\"55\"], 5.0))\n",
    "\n",
    "CAMEO_INTL_2015_b_dict = dict.fromkeys([\"11\",\"21\",\"31\",\"41\",\"51\"], 1.0)\n",
    "CAMEO_INTL_2015_b_dict.update(dict.fromkeys([\"12\",\"22\",\"32\",\"42\",\"52\"], 2.0))\n",
    "CAMEO_INTL_2015_b_dict.update(dict.fromkeys([\"13\",\"23\",\"33\",\"43\",\"53\"], 3.0))\n",
    "CAMEO_INTL_2015_b_dict.update(dict.fromkeys([\"14\",\"24\",\"34\",\"44\",\"54\"], 4.0))\n",
    "CAMEO_INTL_2015_b_dict.update(dict.fromkeys([\"15\",\"25\",\"35\",\"45\",\"55\"], 5.0))\n"
   ]
  },
  {
   "cell_type": "code",
   "execution_count": 30,
   "metadata": {},
   "outputs": [],
   "source": [
    "azdias_cat['PJ_DECADE'] = azdias_cat['PRAEGENDE_JUGENDJAHRE']\n",
    "azdias_cat['PJ_MOVEMENT'] = azdias_cat['PRAEGENDE_JUGENDJAHRE']\n",
    "azdias_cat['CI_Wealth'] = azdias_cat['CAMEO_INTL_2015']\n",
    "azdias_cat['CI_LST'] = azdias_cat['CAMEO_INTL_2015']\n",
    "\n",
    "azdias_cat['PJ_DECADE'].replace(PRAEGENDE_JUGENDJAHRE_a_dict, inplace=True)\n",
    "azdias_cat['PJ_MOVEMENT'].replace(PRAEGENDE_JUGENDJAHRE_b_dict, inplace=True)\n",
    "azdias_cat['CI_Wealth'].replace(CAMEO_INTL_2015_a_dict, inplace=True)\n",
    "azdias_cat['CI_LST'].replace(CAMEO_INTL_2015_b_dict, inplace=True)\n",
    "azdias_cat[\"PJ_MOVEMENT\"].replace(PRAEGENDE_JUGENDJAHRE_MOVEMENT_d, inplace=True) "
   ]
  },
  {
   "cell_type": "code",
   "execution_count": 31,
   "metadata": {},
   "outputs": [],
   "source": [
    "# drop the original PRAEGENDE_JUGENDJAHRE and CAMEO_INTL_2015 + drop all other mixed deature columns  \n",
    "azdias_cat.drop(mix_colunm_names.tolist(), axis=1, inplace=True)"
   ]
  },
  {
   "cell_type": "code",
   "execution_count": 32,
   "metadata": {},
   "outputs": [
    {
     "name": "stdout",
     "output_type": "stream",
     "text": [
      "number of features after  dealing wih PRAEGENDE_JUGENDJAHRE and CAMEO_INTL_2015 130\n"
     ]
    }
   ],
   "source": [
    "print(\"number of features after  dealing wih PRAEGENDE_JUGENDJAHRE and CAMEO_INTL_2015\" + \" \"+  str(azdias_cat.shape[1]))"
   ]
  },
  {
   "cell_type": "code",
   "execution_count": 33,
   "metadata": {},
   "outputs": [],
   "source": [
    "l1 = azdias_cat.columns.tolist()"
   ]
  },
  {
   "cell_type": "markdown",
   "metadata": {},
   "source": [
    "#### Discussion 1.2.2: Engineer Mixed-Type Features\n",
    "\n",
    "I did the following for mixed types : \n",
    "1- dropped every column except the two mentioned, becaused they  have too much information in non sorted way \n",
    "2- creatred new columns for PRAEGENDE_JUGENDJAHRE  and CAMEO_INTL_2015 where i only gave treatment to the binary categorical one (meainstrean , avargrade) and left the 3 with no treatment since they are numerical\n",
    "3 dropped original mixed column \n",
    "\n",
    "* this has increased the number of columns to 132 "
   ]
  },
  {
   "cell_type": "markdown",
   "metadata": {},
   "source": [
    "#### Step 1.2.3: Complete Feature Selection\n",
    "\n",
    "In order to finish this step up, you need to make sure that your data frame now only has the columns that you want to keep. To summarize, the dataframe should consist of the following:\n",
    "- All numeric, interval, and ordinal type columns from the original dataset.\n",
    "- Binary categorical features (all numerically-encoded).\n",
    "- Engineered features from other multi-level categorical features and mixed features.\n",
    "\n",
    "Make sure that for any new columns that you have engineered, that you've excluded the original columns from the final dataset. Otherwise, their values will interfere with the analysis later on the project. For example, you should not keep \"PRAEGENDE_JUGENDJAHRE\", since its values won't be useful for the algorithm: only the values derived from it in the engineered features you created should be retained. As a reminder, your data should only be from **the subset with few or no missing values**."
   ]
  },
  {
   "cell_type": "code",
   "execution_count": 34,
   "metadata": {},
   "outputs": [],
   "source": [
    "# If there are other re-engineering tasks you need to perform, make sure you\n",
    "# take care of them here. (Dealing with missing data will come in step 2.1.)\n",
    "\n",
    "# Done above "
   ]
  },
  {
   "cell_type": "code",
   "execution_count": 35,
   "metadata": {},
   "outputs": [],
   "source": [
    "# Do whatever you need to in order to ensure that the dataframe only contains\n",
    "# the columns that should be passed to the algorithm functions.\n",
    " \n",
    "\n",
    "#done above \n"
   ]
  },
  {
   "cell_type": "markdown",
   "metadata": {},
   "source": [
    "### Step 1.3: Create a Cleaning Function\n",
    "\n",
    "Even though you've finished cleaning up the general population demographics data, it's important to look ahead to the future and realize that you'll need to perform the same cleaning steps on the customer demographics data. In this substep, complete the function below to execute the main feature selection, encoding, and re-engineering steps you performed above. Then, when it comes to looking at the customer data in Step 3, you can just run this function on that DataFrame to get the trimmed dataset in a single step."
   ]
  },
  {
   "cell_type": "code",
   "execution_count": 4,
   "metadata": {},
   "outputs": [],
   "source": [
    "def clean_data(df):\n",
    "    \"\"\"\n",
    "    Perform feature trimming, re-encoding, and engineering for demographics\n",
    "    data\n",
    "    \n",
    "    INPUT: Demographics DataFrame\n",
    "    OUTPUT: Trimmed and cleaned demographics DataFrame\n",
    "    \"\"\"\n",
    "    # Identify missing or unknown data values and convert them to NaNs.\n",
    "    # 1 : fill NAN ::::::::::::::::::::::::::::::::::::::::::::::\n",
    "    print('\\n\\u2022 Step1.1 :Number of  missing values before is {}'.format(df.isnull().sum().sum()))\n",
    "\n",
    "    for indx in range(len(feat_info)):\n",
    "        missing_or_unknown = feat_info.iloc[indx]['missing_or_unknown']\n",
    "        missing_or_unknown = missing_or_unknown.strip('[')\n",
    "        missing_or_unknown = missing_or_unknown.strip(']')\n",
    "        missing_or_unknown = missing_or_unknown.split(sep=',')\n",
    "        missing_or_unknown = [int(value) if (value!='X' and value!='XX' and value!='') else value for value in missing_or_unknown]\n",
    "        if missing_or_unknown != ['']:\n",
    "            df = df.replace({feat_info.iloc[indx]['attribute']: missing_or_unknown}, np.nan)\n",
    "    print('\\n\\u2022 Step1.2 : Total number of missing values after conversion is {}'.format(df.isnull().sum().sum()))\n",
    "    \n",
    "    # 2: deal with columns that has more than 20% missing :::::::::\n",
    "    cut_off_column = 20\n",
    "    \n",
    "    missing_per_column =(df.isnull().sum()/len(df))*100\n",
    "    more_than_20_percent_columns = missing_per_column[missing_per_column>cut_off_column]\n",
    "    more20 = more_than_20_percent_columns.index.tolist()\n",
    "    for i in range(len(more20)):\n",
    "        df.drop(more20[i], axis=1, inplace=True)\n",
    "    \n",
    "    print(\"\\n\\u2022 Step2 : azdias number of rows after Nans treatment {} , while number of columns {}\".format(len(df.index) , len(df.columns)))\n",
    "\n",
    "    # 3: deal with rows that has more than 20% missing :::::::::\n",
    "    cut_off_row = 20\n",
    "    \n",
    "    missing_per_row = (df.isnull().sum(axis=1)/len(df.columns))*100\n",
    "    number_rows_missing_more_than_20 = missing_per_row[missing_per_row > cut_off_row].count()                               \n",
    "    number_rows_missing_less_than_20 = missing_per_row[missing_per_row < cut_off_row].count()\n",
    "    print(\"\\n\\u2022 Step3.1: Number of rows missing more than 20% of the data is {} , while number of rows missing less than 20% {}\".format(number_rows_missing_more_than_20 , number_rows_missing_less_than_20))\n",
    "\n",
    "    rows_missing_more_than_20 = missing_per_row[missing_per_row > cut_off_row]\n",
    "    ind_rmmt20l = rows_missing_more_than_20.index.tolist() # should be deleted\n",
    "    rows_missing_less_than_20 = missing_per_row[missing_per_row < cut_off_row]\n",
    "    ind_rmlt20l = rows_missing_less_than_20.index.tolist()\n",
    "    df_more_20 = df.drop(df.index[ind_rmmt20l])\n",
    "    df_less_20 = df.drop(df.index[ind_rmlt20l])\n",
    "    print(\"\\n\\u2022 Step3.2 number of rows after column cleaning {} , number of columns {}\".format(len(df_more_20.index) , len(df_more_20.columns)))\n",
    "\n",
    "    # 4: Prepare features and figure out which columns belong to which type \n",
    "    ordinal_columns = [] ;  binary_categorical_columns = [] ;multi_level_categorical_columns = [] ; numeric_columns = [] ; mixed_columns = [] ; interval_columns = [];\n",
    "    feat_info_more_20 = feat_info.copy()\n",
    "    mask = feat_info_more_20['attribute'].isin(more20)\n",
    "    feat_info_more_20 = feat_info_more_20[~mask]\n",
    "    feat_info_more_20.reset_index(inplace = True , drop=True)\n",
    "    feat_info_more_20.head()\n",
    "    ind_cat = feat_info_more_20[feat_info_more_20['type'] == \"categorical\"].index.tolist()\n",
    "    cat_colunm_names = df_more_20.columns[ind_cat]\n",
    "    ind_ord = feat_info_more_20[feat_info_more_20['type'] == \"ordinal\"].index.tolist()\n",
    "    ind_num = feat_info_more_20[feat_info_more_20['type'] == \"numeric\"].index.tolist()\n",
    "    ind_mix= feat_info_more_20[feat_info_more_20['type'] == \"mixed\"].index.tolist()\n",
    "    mix_colunm_names = df_more_20.columns[ind_mix]\n",
    "    ind_int= feat_info_more_20[feat_info_more_20['type'] == \"interval\"].index.tolist()\n",
    "\n",
    "    cat_colunm_names = df_more_20.columns[ind_cat]\n",
    "    cat_bin = {}\n",
    "    cat_multi = {}\n",
    "    for i , column in enumerate(cat_colunm_names): \n",
    "        if df_more_20.loc[:,cat_colunm_names[i]].nunique() == 2: \n",
    "            cat_bin[cat_colunm_names[i]] = df_more_20.loc[:,cat_colunm_names[i]].nunique() \n",
    "        else: \n",
    "            cat_multi[cat_colunm_names[i]] = df_more_20.loc[:,cat_colunm_names[i]].nunique()\n",
    "\n",
    "    def merge_two_dicts(x, y):\n",
    "        z = x.copy()    \n",
    "        z.update(y)    \n",
    "        return z\n",
    "    cat_d = merge_two_dicts(cat_bin, cat_multi)\n",
    "    cat_multi_colunm_names = list(cat_multi.keys())\n",
    "    cat_bin_colunm_names = list(cat_bin.keys())\n",
    "    \n",
    "    # 5: categorical features Binary -> 0,1 Multi -> dummies :::::::::\n",
    "    # 5.1 Categorical Binary # here OST_WEST_KZ  w => 0 , O -> 1\n",
    "    for i in range(len(cat_bin_colunm_names)):\n",
    "        if type(df_more_20.loc[:, cat_bin_colunm_names[i]].unique()[0]) == str: \n",
    "            # if the categorical column is bima\n",
    "            l = df_more_20.loc[:, cat_bin_colunm_names[i]].unique()\n",
    "            df_more_20[cat_bin_colunm_names[i]].replace({l[0]: 0, l[1]: 1}, inplace=True) \n",
    "    \n",
    "    \n",
    "    # delete CAMEO_DEU_2015 because it has so many categorires \n",
    "    # delete GEBAEUDETYP becaise it has more unique values than the ones in the Udacity customer dataset\n",
    "    #######################################################\n",
    "    to_be_deleted = ['GEBAEUDETYP' , 'CAMEO_DEU_2015']\n",
    "    for column_to_delete in to_be_deleted: \n",
    "        \n",
    "        if column_to_delete in cat_multi_colunm_names: \n",
    "            \n",
    "            cat_multi_colunm_names.remove('GEBAEUDETYP')\n",
    "            cat_multi_colunm_names.remove('CAMEO_DEU_2015')\n",
    "            df_more_20.drop(['GEBAEUDETYP' , 'CAMEO_DEU_2015'], inplace= True , axis=1 , errors='ignore')\n",
    "    #############################################################    \n",
    "    # 5.2 Categorical Multi\n",
    "    X = df_more_20[cat_multi_colunm_names]\n",
    "    df_multi_dum = pd.get_dummies(X , columns=X.columns , drop_first=True)\n",
    "    df_20_no_multi_cat = df_more_20.drop(cat_multi_colunm_names, axis = 1)\n",
    "    df_cat = pd.concat([df_multi_dum, df_20_no_multi_cat], axis=1)\n",
    "    print(\"\\n\\u2022 Step5 Number of rows after dealing with Multi and Binary Categorical data {} , while number of columns {}\".format(len(df_cat.index) , len(df_cat.columns)))\n",
    "\n",
    "    # 6 Deal with Mixed features \n",
    "    #to_be_branched = ['PRAEGENDE_JUGENDJAHRE' , 'CAMEO_INTL_2015']\n",
    "     #   for column_to_branched in to_be_branched: \n",
    "    if 'PRAEGENDE_JUGENDJAHRE' in df_cat.columns.tolist(): \n",
    "        \n",
    "        df_cat['PJ_DECADE'] = df_cat['PRAEGENDE_JUGENDJAHRE']\n",
    "        df_cat['PJ_MOVEMENT'] = df_cat['PRAEGENDE_JUGENDJAHRE']\n",
    "        \n",
    "        df_cat['PJ_DECADE'].replace(PRAEGENDE_JUGENDJAHRE_a_dict, inplace=True)\n",
    "        df_cat['PJ_MOVEMENT'].replace(PRAEGENDE_JUGENDJAHRE_b_dict, inplace=True)\n",
    "        df_cat[\"PJ_MOVEMENT\"].replace(PRAEGENDE_JUGENDJAHRE_MOVEMENT_d, inplace=True)\n",
    "   \n",
    "    if 'CAMEO_INTL_2015' in df_cat.columns.tolist():\n",
    "                \n",
    "        df_cat['CI_Wealth'] = df_cat['CAMEO_INTL_2015']\n",
    "        df_cat['CI_LST'] = df_cat['CAMEO_INTL_2015']     \n",
    "        df_cat['CI_Wealth'].replace(CAMEO_INTL_2015_a_dict, inplace=True)\n",
    "        df_cat['CI_LST'].replace(CAMEO_INTL_2015_b_dict, inplace=True)\n",
    "                 \n",
    "    df_cat.drop(mix_colunm_names.tolist(), axis=1, inplace=True)\n",
    "                \n",
    "    print(\"\\n\\u2022 Step6 Number of rows after dealing with Mixed Features is {} , number of columns {}\".format(len(df_cat.index) , len(df_cat.columns)))\n",
    "\n",
    "    return df_cat"
   ]
  },
  {
   "cell_type": "code",
   "execution_count": 5,
   "metadata": {},
   "outputs": [
    {
     "name": "stdout",
     "output_type": "stream",
     "text": [
      "\n",
      "• Step1.1 :Number of  missing values before is 4896838\n",
      "\n",
      "• Step1.2 : Total number of missing values after conversion is 8373929\n",
      "\n",
      "• Step2 : azdias number of rows after Nans treatment 891221 , while number of columns 79\n",
      "\n",
      "• Step3.1: Number of rows missing more than 10% of the data is 98934 , while number of rows missing less than 10% 792287\n",
      "\n",
      "• Step3.2 number of rows after column cleaning 792287 , number of columns 79\n",
      "\n",
      "• Step5 Number of rows after dealing with Multi and Binary Categorical data 792287 , while number of columns 132\n",
      "\n",
      "• Step6 Number of rows after dealing with Mixed Features is 792287 , number of columns 130\n"
     ]
    }
   ],
   "source": [
    "azdias_clean = clean_data(azdiascopy)"
   ]
  },
  {
   "cell_type": "code",
   "execution_count": 38,
   "metadata": {},
   "outputs": [],
   "source": [
    "l2 = azdias_clean.columns.tolist()"
   ]
  },
  {
   "cell_type": "code",
   "execution_count": 39,
   "metadata": {},
   "outputs": [
    {
     "data": {
      "text/plain": [
       "[]"
      ]
     },
     "execution_count": 39,
     "metadata": {},
     "output_type": "execute_result"
    }
   ],
   "source": [
    "list(set(l2) - set(l1))"
   ]
  },
  {
   "cell_type": "markdown",
   "metadata": {},
   "source": [
    "## Step 2: Feature Transformation\n",
    "\n",
    "### Step 2.1: Apply Feature Scaling\n",
    "\n",
    "Before we apply dimensionality reduction techniques to the data, we need to perform feature scaling so that the principal component vectors are not influenced by the natural differences in scale for features. Starting from this part of the project, you'll want to keep an eye on the [API reference page for sklearn](http://scikit-learn.org/stable/modules/classes.html) to help you navigate to all of the classes and functions that you'll need. In this substep, you'll need to check the following:\n",
    "\n",
    "- sklearn requires that data not have missing values in order for its estimators to work properly. So, before applying the scaler to your data, make sure that you've cleaned the DataFrame of the remaining missing values. This can be as simple as just removing all data points with missing data, or applying an [Imputer](https://scikit-learn.org/0.16/modules/generated/sklearn.preprocessing.Imputer.html) to replace all missing values. You might also try a more complicated procedure where you temporarily remove missing values in order to compute the scaling parameters before re-introducing those missing values and applying imputation. Think about how much missing data you have and what possible effects each approach might have on your analysis, and justify your decision in the discussion section below.\n",
    "- For the actual scaling function, a [StandardScaler](http://scikit-learn.org/stable/modules/generated/sklearn.preprocessing.StandardScaler.html) instance is suggested, scaling each feature to mean 0 and standard deviation 1.\n",
    "- For these classes, you can make use of the `.fit_transform()` method to both fit a procedure to the data as well as apply the transformation to the data at the same time. Don't forget to keep the fit sklearn objects handy, since you'll be applying them to the customer demographics data towards the end of the project."
   ]
  },
  {
   "cell_type": "code",
   "execution_count": 6,
   "metadata": {},
   "outputs": [],
   "source": [
    "# If you've not yet cleaned the dataset of all NaN values, then investigate and\n",
    "# do that now.\n",
    "from sklearn.preprocessing import Imputer\n",
    "from sklearn.preprocessing import StandardScaler\n",
    "\n",
    "imputer = Imputer(strategy='most_frequent')\n",
    "scaler = StandardScaler() \n",
    "azdias_CI = pd.DataFrame(imputer.fit_transform(azdias_clean) , columns=azdias_clean.columns , index = azdias_clean.index)\n",
    "# Apply feature scaling to the general population demographics data.\n",
    "azdias_CIS = pd.DataFrame(scaler.fit_transform(azdias_CI),columns=azdias_clean.columns , index = azdias_clean.index)\n"
   ]
  },
  {
   "cell_type": "markdown",
   "metadata": {},
   "source": [
    "### Discussion 2.1: Apply Feature Scaling\n",
    "\n",
    "I decided to fill nas with the most frequesnt values for each column .. and then apply feature scaling asd usual "
   ]
  },
  {
   "cell_type": "markdown",
   "metadata": {},
   "source": [
    "### Step 2.2: Perform Dimensionality Reduction\n",
    "\n",
    "On your scaled data, you are now ready to apply dimensionality reduction techniques.\n",
    "\n",
    "- Use sklearn's [PCA](http://scikit-learn.org/stable/modules/generated/sklearn.decomposition.PCA.html) class to apply principal component analysis on the data, thus finding the vectors of maximal variance in the data. To start, you should not set any parameters (so all components are computed) or set a number of components that is at least half the number of features (so there's enough features to see the general trend in variability).\n",
    "- Check out the ratio of variance explained by each principal component as well as the cumulative variance explained. Try plotting the cumulative or sequential values using matplotlib's [`plot()`](https://matplotlib.org/api/_as_gen/matplotlib.pyplot.plot.html) function. Based on what you find, select a value for the number of transformed features you'll retain for the clustering part of the project.\n",
    "- Once you've made a choice for the number of components to keep, make sure you re-fit a PCA instance to perform the decided-on transformation."
   ]
  },
  {
   "cell_type": "markdown",
   "metadata": {},
   "source": [
    "### Discussion 2.2: Perform Dimensionality Reduction\n",
    "\n",
    "Please check below ! : I decided to chose 40 PCA only since it explains about 70 percent of the data"
   ]
  },
  {
   "cell_type": "markdown",
   "metadata": {},
   "source": [
    "### Step 2.3: Interpret Principal Components\n",
    "\n",
    "Now that we have our transformed principal components, it's a nice idea to check out the weight of each variable on the first few components to see if they can be interpreted in some fashion.\n",
    "\n",
    "As a reminder, each principal component is a unit vector that points in the direction of highest variance (after accounting for the variance captured by earlier principal components). The further a weight is from zero, the more the principal component is in the direction of the corresponding feature. If two features have large weights of the same sign (both positive or both negative), then increases in one tend expect to be associated with increases in the other. To contrast, features with different signs can be expected to show a negative correlation: increases in one variable should result in a decrease in the other.\n",
    "\n",
    "- To investigate the features, you should map each weight to their corresponding feature name, then sort the features according to weight. The most interesting features for each principal component, then, will be those at the beginning and end of the sorted list. Use the data dictionary document to help you understand these most prominent features, their relationships, and what a positive or negative value on the principal component might indicate.\n",
    "- You should investigate and interpret feature associations from the first three principal components in this substep. To help facilitate this, you should write a function that you can call at any time to print the sorted list of feature weights, for the *i*-th principal component. This might come in handy in the next step of the project, when you interpret the tendencies of the discovered clusters."
   ]
  },
  {
   "cell_type": "code",
   "execution_count": 7,
   "metadata": {},
   "outputs": [],
   "source": [
    "def plotvariance(pca):\n",
    "    fig, (ax1, ax2) = plt.subplots(1, 2,figsize=(10,5))\n",
    "    fig.suptitle(\"Variance explained by each component and Cumulative Variance Explained\")\n",
    "    ax1.bar(range(len(pca.explained_variance_ratio_)), pca.explained_variance_ratio_,  facecolor=\"green\" ,edgecolor=\"red\" )\n",
    "    ax2.plot(range(len(pca.explained_variance_ratio_)),np.cumsum(pca.explained_variance_ratio_) , color = \"blue\")"
   ]
  },
  {
   "cell_type": "code",
   "execution_count": 8,
   "metadata": {},
   "outputs": [],
   "source": [
    "def do_pca(data , n_components = None):\n",
    "  \n",
    "    X = StandardScaler().fit_transform(data)\n",
    "    pca = PCA(n_components)\n",
    "    X_pca = pca.fit_transform(X)\n",
    "    return pca, X_pca"
   ]
  },
  {
   "cell_type": "code",
   "execution_count": 9,
   "metadata": {},
   "outputs": [],
   "source": [
    "pca_all, X_pca_all = do_pca(azdias_CIS)"
   ]
  },
  {
   "cell_type": "code",
   "execution_count": 10,
   "metadata": {},
   "outputs": [
    {
     "data": {
      "image/png": "[encoded data removed]",
      "text/plain": [
       "<matplotlib.figure.Figure at 0x7fdd7e28bbe0>"
      ]
     },
     "metadata": {
      "needs_background": "light"
     },
     "output_type": "display_data"
    }
   ],
   "source": [
    "plotvariance(pca_all)"
   ]
  },
  {
   "cell_type": "code",
   "execution_count": 11,
   "metadata": {},
   "outputs": [],
   "source": [
    "pca_50, X_pca_50 = do_pca(azdias_CIS,n_components = 50)"
   ]
  },
  {
   "cell_type": "code",
   "execution_count": 12,
   "metadata": {},
   "outputs": [
    {
     "data": {
      "image/png": "[encoded data removed]",
      "text/plain": [
       "<matplotlib.figure.Figure at 0x7fdd7dff9b00>"
      ]
     },
     "metadata": {
      "needs_background": "light"
     },
     "output_type": "display_data"
    }
   ],
   "source": [
    "plotvariance(pca_50)"
   ]
  },
  {
   "cell_type": "code",
   "execution_count": 13,
   "metadata": {},
   "outputs": [],
   "source": [
    "pca_40, X_pca_40 = do_pca(azdias_CIS,n_components = 40)"
   ]
  },
  {
   "cell_type": "code",
   "execution_count": 14,
   "metadata": {},
   "outputs": [
    {
     "data": {
      "image/png": "[encoded data removed]",
      "text/plain": [
       "<matplotlib.figure.Figure at 0x7fdd7dd769e8>"
      ]
     },
     "metadata": {
      "needs_background": "light"
     },
     "output_type": "display_data"
    }
   ],
   "source": [
    "plotvariance(pca_40)"
   ]
  },
  {
   "cell_type": "code",
   "execution_count": 15,
   "metadata": {},
   "outputs": [],
   "source": [
    "# Map weights for the first principal component to corresponding feature names\n",
    "# and then print the linked values, sorted by weight.\n",
    "# HINT: Try defining a function here or in a new cell that you can reuse in the\n",
    "# other cells.\n",
    "def get_weights(pca, i):\n",
    "    df = pd.DataFrame(pca.components_, columns=list(azdias_CI.columns)) # shape (40,130)\n",
    "    weights = df.iloc[i].sort_values(ascending=False)\n",
    "    return weights"
   ]
  },
  {
   "cell_type": "code",
   "execution_count": 16,
   "metadata": {},
   "outputs": [
    {
     "name": "stdout",
     "output_type": "stream",
     "text": [
      "PLZ8_ANTG3               0.189630\n",
      "HH_EINKOMMEN_SCORE       0.188654\n",
      "CI_Wealth                0.185138\n",
      "PLZ8_ANTG4               0.182271\n",
      "ORTSGR_KLS9              0.161343\n",
      "EWDICHTE                 0.159481\n",
      "FINANZ_SPARER            0.159151\n",
      "FINANZ_HAUSBAUER         0.145137\n",
      "LP_STATUS_FEIN_2.0       0.138867\n",
      "KBA05_ANTG4              0.130288\n",
      "PLZ8_ANTG2               0.130082\n",
      "SEMIO_PFLICHT            0.124044\n",
      "KBA05_ANTG3              0.121935\n",
      "SEMIO_REL                0.121601\n",
      "PJ_DECADE                0.121269\n",
      "ARBEIT                   0.118741\n",
      "ANZ_HAUSHALTE_AKTIV      0.116421\n",
      "CAMEO_DEUG_2015_9        0.116417\n",
      "RELAT_AB                 0.111676\n",
      "SEMIO_RAT                0.102681\n",
      "SEMIO_TRADV              0.099853\n",
      "ZABEOTYP_5               0.095229\n",
      "CAMEO_DEUG_2015_8        0.091887\n",
      "FINANZ_ANLEGER           0.090753\n",
      "FINANZ_UNAUFFAELLIGER    0.090598\n",
      "SEMIO_MAT                0.082699\n",
      "SEMIO_FAM                0.080005\n",
      "SEMIO_KULT               0.077590\n",
      "GFK_URLAUBERTYP_12.0     0.069227\n",
      "ZABEOTYP_4               0.055459\n",
      "                           ...   \n",
      "LP_FAMILIE_GROB_5.0     -0.059140\n",
      "KBA13_ANZAHL_PKW        -0.061352\n",
      "WOHNDAUER_2008          -0.064126\n",
      "CAMEO_DEUG_2015_3       -0.066332\n",
      "CJT_GESAMTTYP_2.0       -0.066983\n",
      "CAMEO_DEUG_2015_4       -0.072756\n",
      "ANZ_PERSONEN            -0.075000\n",
      "SEMIO_LUST              -0.081674\n",
      "SEMIO_ERL               -0.083101\n",
      "CAMEO_DEUG_2015_2       -0.090240\n",
      "GEBAEUDETYP_RASTER      -0.098888\n",
      "FINANZTYP_2             -0.100094\n",
      "BALLRAUM                -0.101798\n",
      "PJ_MOVEMENT             -0.106803\n",
      "GREEN_AVANTGARDE        -0.106803\n",
      "CI_LST                  -0.116215\n",
      "LP_STATUS_FEIN_9.0      -0.116270\n",
      "LP_STATUS_GROB_4.0      -0.116920\n",
      "LP_STATUS_FEIN_10.0     -0.122023\n",
      "LP_STATUS_GROB_5.0      -0.122023\n",
      "FINANZ_VORSORGER        -0.126039\n",
      "ALTERSKATEGORIE_GROB    -0.129706\n",
      "INNENSTADT              -0.134039\n",
      "PLZ8_GBZ                -0.138637\n",
      "KONSUMNAEHE             -0.140754\n",
      "KBA05_GBZ               -0.185958\n",
      "KBA05_ANTG1             -0.187978\n",
      "PLZ8_ANTG1              -0.190408\n",
      "MOBI_REGIO              -0.195911\n",
      "FINANZ_MINIMALIST       -0.216407\n",
      "Name: 0, Length: 130, dtype: float64\n"
     ]
    }
   ],
   "source": [
    "wpca_0 = get_weights(pca_40, 0)\n",
    "print (wpca_0)"
   ]
  },
  {
   "cell_type": "code",
   "execution_count": 17,
   "metadata": {},
   "outputs": [
    {
     "name": "stdout",
     "output_type": "stream",
     "text": [
      "ALTERSKATEGORIE_GROB     0.218961\n",
      "FINANZ_VORSORGER         0.207002\n",
      "ZABEOTYP_3               0.200785\n",
      "SEMIO_ERL                0.177183\n",
      "SEMIO_LUST               0.156498\n",
      "RETOURTYP_BK_S           0.154993\n",
      "W_KEIT_KIND_HH           0.130084\n",
      "FINANZ_HAUSBAUER         0.125423\n",
      "PLZ8_ANTG3               0.109624\n",
      "PLZ8_ANTG4               0.105242\n",
      "EWDICHTE                 0.103986\n",
      "CJT_GESAMTTYP_2.0        0.103623\n",
      "ORTSGR_KLS9              0.102822\n",
      "FINANZTYP_5              0.100881\n",
      "CI_Wealth                0.097372\n",
      "KBA05_ANTG4              0.080990\n",
      "SEMIO_KRIT               0.080373\n",
      "PLZ8_ANTG2               0.077431\n",
      "FINANZTYP_2              0.077355\n",
      "HH_EINKOMMEN_SCORE       0.077248\n",
      "ARBEIT                   0.077002\n",
      "SEMIO_KAEM               0.074860\n",
      "RELAT_AB                 0.074378\n",
      "ANZ_HAUSHALTE_AKTIV      0.072354\n",
      "SHOPPER_TYP_3.0          0.070918\n",
      "GFK_URLAUBERTYP_4.0      0.062881\n",
      "KBA05_ANTG3              0.060296\n",
      "LP_STATUS_FEIN_3.0       0.058444\n",
      "FINANZTYP_6              0.057476\n",
      "CAMEO_DEUG_2015_8        0.057272\n",
      "                           ...   \n",
      "LP_STATUS_FEIN_2.0      -0.062571\n",
      "SEMIO_SOZ               -0.063338\n",
      "BALLRAUM                -0.067117\n",
      "GFK_URLAUBERTYP_9.0     -0.073745\n",
      "ZABEOTYP_5              -0.076281\n",
      "LP_FAMILIE_GROB_4.0     -0.076450\n",
      "ANZ_PERSONEN            -0.076487\n",
      "PLZ8_GBZ                -0.081797\n",
      "KONSUMNAEHE             -0.083816\n",
      "INNENSTADT              -0.084001\n",
      "LP_STATUS_FEIN_5.0      -0.084609\n",
      "KBA05_ANTG1             -0.088091\n",
      "FINANZTYP_3             -0.091095\n",
      "MOBI_REGIO              -0.094563\n",
      "FINANZTYP_4             -0.094659\n",
      "ZABEOTYP_4              -0.100270\n",
      "KBA05_GBZ               -0.103324\n",
      "PLZ8_ANTG1              -0.107818\n",
      "SEMIO_MAT               -0.125168\n",
      "SEMIO_FAM               -0.131485\n",
      "SEMIO_RAT               -0.153789\n",
      "SEMIO_KULT              -0.164732\n",
      "ONLINE_AFFINITAET       -0.171480\n",
      "SEMIO_PFLICHT           -0.191571\n",
      "FINANZ_ANLEGER          -0.192878\n",
      "SEMIO_TRADV             -0.199830\n",
      "SEMIO_REL               -0.203655\n",
      "FINANZ_SPARER           -0.204441\n",
      "FINANZ_UNAUFFAELLIGER   -0.205955\n",
      "PJ_DECADE               -0.217591\n",
      "Name: 1, Length: 130, dtype: float64\n"
     ]
    }
   ],
   "source": [
    "wpca_1 = get_weights(pca_40, 1)\n",
    "print (wpca_1)"
   ]
  },
  {
   "cell_type": "code",
   "execution_count": 18,
   "metadata": {},
   "outputs": [
    {
     "name": "stdout",
     "output_type": "stream",
     "text": [
      "SEMIO_VERT               0.330583\n",
      "SEMIO_FAM                0.263901\n",
      "SEMIO_SOZ                0.262384\n",
      "SEMIO_KULT               0.253541\n",
      "FINANZTYP_5              0.141592\n",
      "FINANZ_MINIMALIST        0.136123\n",
      "SEMIO_REL                0.108608\n",
      "SEMIO_MAT                0.088022\n",
      "RETOURTYP_BK_S           0.082211\n",
      "GREEN_AVANTGARDE         0.074062\n",
      "PJ_MOVEMENT              0.074062\n",
      "W_KEIT_KIND_HH           0.067507\n",
      "SHOPPER_TYP_1.0          0.060887\n",
      "EWDICHTE                 0.060734\n",
      "ORTSGR_KLS9              0.060612\n",
      "FINANZ_VORSORGER         0.057255\n",
      "LP_STATUS_GROB_5.0       0.052631\n",
      "LP_STATUS_FEIN_10.0      0.052631\n",
      "ZABEOTYP_6               0.052389\n",
      "LP_STATUS_FEIN_3.0       0.048854\n",
      "PLZ8_ANTG3               0.046885\n",
      "PLZ8_ANTG4               0.045598\n",
      "PLZ8_ANTG2               0.035828\n",
      "RELAT_AB                 0.035334\n",
      "ARBEIT                   0.032872\n",
      "NATIONALITAET_KZ_2.0     0.030977\n",
      "SEMIO_LUST               0.030705\n",
      "GFK_URLAUBERTYP_4.0      0.029207\n",
      "LP_FAMILIE_GROB_2.0      0.028931\n",
      "LP_FAMILIE_FEIN_2.0      0.028931\n",
      "                           ...   \n",
      "CJT_GESAMTTYP_6.0       -0.031662\n",
      "PLZ8_GBZ                -0.031673\n",
      "NATIONALITAET_KZ_3.0    -0.032490\n",
      "GFK_URLAUBERTYP_9.0     -0.032530\n",
      "SEMIO_PFLICHT           -0.033701\n",
      "GEBAEUDETYP_RASTER      -0.035116\n",
      "HH_EINKOMMEN_SCORE      -0.035227\n",
      "KKK                     -0.035571\n",
      "LP_FAMILIE_FEIN_4.0     -0.041903\n",
      "PLZ8_ANTG1              -0.044412\n",
      "KONSUMNAEHE             -0.045046\n",
      "SHOPPER_TYP_3.0         -0.047301\n",
      "BALLRAUM                -0.047609\n",
      "FINANZ_UNAUFFAELLIGER   -0.052562\n",
      "INNENSTADT              -0.053868\n",
      "LP_FAMILIE_GROB_3.0     -0.058949\n",
      "FINANZ_HAUSBAUER        -0.060809\n",
      "FINANZ_SPARER           -0.064271\n",
      "ZABEOTYP_4              -0.064771\n",
      "PJ_DECADE               -0.065148\n",
      "LP_STATUS_FEIN_4.0      -0.069909\n",
      "LP_STATUS_FEIN_2.0      -0.082825\n",
      "SHOPPER_TYP_2.0         -0.095089\n",
      "FINANZ_ANLEGER          -0.162654\n",
      "SEMIO_RAT               -0.166897\n",
      "SEMIO_ERL               -0.204301\n",
      "SEMIO_KRIT              -0.269941\n",
      "SEMIO_DOM               -0.292980\n",
      "SEMIO_KAEM              -0.324196\n",
      "ANREDE_KZ               -0.355545\n",
      "Name: 2, Length: 130, dtype: float64\n"
     ]
    }
   ],
   "source": [
    "wpca_2 = get_weights(pca_40, 2)\n",
    "print (wpca_2)"
   ]
  },
  {
   "cell_type": "markdown",
   "metadata": {},
   "source": [
    "### Discussion 2.3: Interpret Principal Components\n",
    "\n",
    "(Double-click this cell and replace this text with your own text, reporting your observations from detailed investigation of the first few principal components generated. Can we interpret positive and negative values from them in a meaningful way?)"
   ]
  },
  {
   "cell_type": "markdown",
   "metadata": {},
   "source": [
    "## Step 3: Clustering\n",
    "\n",
    "### Step 3.1: Apply Clustering to General Population\n",
    "\n",
    "You've assessed and cleaned the demographics data, then scaled and transformed them. Now, it's time to see how the data clusters in the principal components space. In this substep, you will apply k-means clustering to the dataset and use the average within-cluster distances from each point to their assigned cluster's centroid to decide on a number of clusters to keep.\n",
    "\n",
    "- Use sklearn's [KMeans](http://scikit-learn.org/stable/modules/generated/sklearn.cluster.KMeans.html#sklearn.cluster.KMeans) class to perform k-means clustering on the PCA-transformed data.\n",
    "- Then, compute the average difference from each point to its assigned cluster's center. **Hint**: The KMeans object's `.score()` method might be useful here, but note that in sklearn, scores tend to be defined so that larger is better. Try applying it to a small, toy dataset, or use an internet search to help your understanding.\n",
    "- Perform the above two steps for a number of different cluster counts. You can then see how the average distance decreases with an increasing number of clusters. However, each additional cluster provides a smaller net benefit. Use this fact to select a final number of clusters in which to group the data. **Warning**: because of the large size of the dataset, it can take a long time for the algorithm to resolve. The more clusters to fit, the longer the algorithm will take. You should test for cluster counts through at least 10 clusters to get the full picture, but you shouldn't need to test for a number of clusters above about 30.\n",
    "- Once you've selected a final number of clusters to use, re-fit a KMeans instance to perform the clustering operation. Make sure that you also obtain the cluster assignments for the general demographics data, since you'll be using them in the final Step 3.3."
   ]
  },
  {
   "cell_type": "code",
   "execution_count": 19,
   "metadata": {},
   "outputs": [],
   "source": [
    "from sklearn.cluster import KMeans"
   ]
  },
  {
   "cell_type": "code",
   "execution_count": 20,
   "metadata": {},
   "outputs": [],
   "source": [
    "def k_mean_score(data, n_cluster):\n",
    "    kmeans = KMeans(n_clusters = n_cluster)\n",
    "    model = kmeans.fit(data)\n",
    "    score = np.abs(model.score(data))\n",
    "    return score"
   ]
  },
  {
   "cell_type": "code",
   "execution_count": 22,
   "metadata": {},
   "outputs": [
    {
     "ename": "KeyboardInterrupt",
     "evalue": "",
     "output_type": "error",
     "traceback": [
      "\u001b[0;31m---------------------------------------------------------------------------\u001b[0m",
      "\u001b[0;31mKeyboardInterrupt\u001b[0m                         Traceback (most recent call last)",
      "\u001b[0;32m<ipython-input-22-7218b94647fd>\u001b[0m in \u001b[0;36m<module>\u001b[0;34m()\u001b[0m\n\u001b[1;32m      5\u001b[0m \u001b[0mks\u001b[0m \u001b[0;34m=\u001b[0m \u001b[0mlist\u001b[0m\u001b[0;34m(\u001b[0m\u001b[0mrange\u001b[0m\u001b[0;34m(\u001b[0m\u001b[0;36m1\u001b[0m\u001b[0;34m,\u001b[0m\u001b[0;36m25\u001b[0m\u001b[0;34m)\u001b[0m\u001b[0;34m)\u001b[0m\u001b[0;34m\u001b[0m\u001b[0m\n\u001b[1;32m      6\u001b[0m \u001b[0;32mfor\u001b[0m \u001b[0mi\u001b[0m\u001b[0;34m,\u001b[0m\u001b[0mk\u001b[0m \u001b[0;32min\u001b[0m \u001b[0menumerate\u001b[0m\u001b[0;34m(\u001b[0m\u001b[0mks\u001b[0m\u001b[0;34m)\u001b[0m\u001b[0;34m:\u001b[0m\u001b[0;34m\u001b[0m\u001b[0m\n\u001b[0;32m----> 7\u001b[0;31m     \u001b[0mscore\u001b[0m \u001b[0;34m=\u001b[0m \u001b[0mk_mean_score\u001b[0m\u001b[0;34m(\u001b[0m\u001b[0mX_pca_40\u001b[0m\u001b[0;34m,\u001b[0m \u001b[0mk\u001b[0m\u001b[0;34m)\u001b[0m\u001b[0;34m\u001b[0m\u001b[0m\n\u001b[0m\u001b[1;32m      8\u001b[0m     \u001b[0mscores\u001b[0m\u001b[0;34m.\u001b[0m\u001b[0mappend\u001b[0m\u001b[0;34m(\u001b[0m\u001b[0mscore\u001b[0m\u001b[0;34m)\u001b[0m\u001b[0;34m\u001b[0m\u001b[0m\n\u001b[1;32m      9\u001b[0m     \u001b[0mprint\u001b[0m\u001b[0;34m(\u001b[0m\u001b[0mstr\u001b[0m\u001b[0;34m(\u001b[0m\u001b[0mi\u001b[0m\u001b[0;34m)\u001b[0m \u001b[0;34m+\u001b[0m \u001b[0;34m\": \"\u001b[0m \u001b[0;34m+\u001b[0m \u001b[0mstr\u001b[0m\u001b[0;34m(\u001b[0m\u001b[0mscore\u001b[0m\u001b[0;34m)\u001b[0m \u001b[0;34m)\u001b[0m\u001b[0;34m\u001b[0m\u001b[0m\n",
      "\u001b[0;32m<ipython-input-20-02561f684801>\u001b[0m in \u001b[0;36mk_mean_score\u001b[0;34m(data, n_cluster)\u001b[0m\n\u001b[1;32m      1\u001b[0m \u001b[0;32mdef\u001b[0m \u001b[0mk_mean_score\u001b[0m\u001b[0;34m(\u001b[0m\u001b[0mdata\u001b[0m\u001b[0;34m,\u001b[0m \u001b[0mn_cluster\u001b[0m\u001b[0;34m)\u001b[0m\u001b[0;34m:\u001b[0m\u001b[0;34m\u001b[0m\u001b[0m\n\u001b[1;32m      2\u001b[0m     \u001b[0mkmeans\u001b[0m \u001b[0;34m=\u001b[0m \u001b[0mKMeans\u001b[0m\u001b[0;34m(\u001b[0m\u001b[0mn_clusters\u001b[0m \u001b[0;34m=\u001b[0m \u001b[0mn_cluster\u001b[0m\u001b[0;34m)\u001b[0m\u001b[0;34m\u001b[0m\u001b[0m\n\u001b[0;32m----> 3\u001b[0;31m     \u001b[0mmodel\u001b[0m \u001b[0;34m=\u001b[0m \u001b[0mkmeans\u001b[0m\u001b[0;34m.\u001b[0m\u001b[0mfit\u001b[0m\u001b[0;34m(\u001b[0m\u001b[0mdata\u001b[0m\u001b[0;34m)\u001b[0m\u001b[0;34m\u001b[0m\u001b[0m\n\u001b[0m\u001b[1;32m      4\u001b[0m     \u001b[0mscore\u001b[0m \u001b[0;34m=\u001b[0m \u001b[0mnp\u001b[0m\u001b[0;34m.\u001b[0m\u001b[0mabs\u001b[0m\u001b[0;34m(\u001b[0m\u001b[0mmodel\u001b[0m\u001b[0;34m.\u001b[0m\u001b[0mscore\u001b[0m\u001b[0;34m(\u001b[0m\u001b[0mdata\u001b[0m\u001b[0;34m)\u001b[0m\u001b[0;34m)\u001b[0m\u001b[0;34m\u001b[0m\u001b[0m\n\u001b[1;32m      5\u001b[0m     \u001b[0;32mreturn\u001b[0m \u001b[0mscore\u001b[0m\u001b[0;34m\u001b[0m\u001b[0m\n",
      "\u001b[0;32m/opt/conda/lib/python3.6/site-packages/sklearn/cluster/k_means_.py\u001b[0m in \u001b[0;36mfit\u001b[0;34m(self, X, y)\u001b[0m\n\u001b[1;32m    894\u001b[0m                 \u001b[0mtol\u001b[0m\u001b[0;34m=\u001b[0m\u001b[0mself\u001b[0m\u001b[0;34m.\u001b[0m\u001b[0mtol\u001b[0m\u001b[0;34m,\u001b[0m \u001b[0mrandom_state\u001b[0m\u001b[0;34m=\u001b[0m\u001b[0mrandom_state\u001b[0m\u001b[0;34m,\u001b[0m \u001b[0mcopy_x\u001b[0m\u001b[0;34m=\u001b[0m\u001b[0mself\u001b[0m\u001b[0;34m.\u001b[0m\u001b[0mcopy_x\u001b[0m\u001b[0;34m,\u001b[0m\u001b[0;34m\u001b[0m\u001b[0m\n\u001b[1;32m    895\u001b[0m                 \u001b[0mn_jobs\u001b[0m\u001b[0;34m=\u001b[0m\u001b[0mself\u001b[0m\u001b[0;34m.\u001b[0m\u001b[0mn_jobs\u001b[0m\u001b[0;34m,\u001b[0m \u001b[0malgorithm\u001b[0m\u001b[0;34m=\u001b[0m\u001b[0mself\u001b[0m\u001b[0;34m.\u001b[0m\u001b[0malgorithm\u001b[0m\u001b[0;34m,\u001b[0m\u001b[0;34m\u001b[0m\u001b[0m\n\u001b[0;32m--> 896\u001b[0;31m                 return_n_iter=True)\n\u001b[0m\u001b[1;32m    897\u001b[0m         \u001b[0;32mreturn\u001b[0m \u001b[0mself\u001b[0m\u001b[0;34m\u001b[0m\u001b[0m\n\u001b[1;32m    898\u001b[0m \u001b[0;34m\u001b[0m\u001b[0m\n",
      "\u001b[0;32m/opt/conda/lib/python3.6/site-packages/sklearn/cluster/k_means_.py\u001b[0m in \u001b[0;36mk_means\u001b[0;34m(X, n_clusters, init, precompute_distances, n_init, max_iter, verbose, tol, random_state, copy_x, n_jobs, algorithm, return_n_iter)\u001b[0m\n\u001b[1;32m    344\u001b[0m                 \u001b[0mX\u001b[0m\u001b[0;34m,\u001b[0m \u001b[0mn_clusters\u001b[0m\u001b[0;34m,\u001b[0m \u001b[0mmax_iter\u001b[0m\u001b[0;34m=\u001b[0m\u001b[0mmax_iter\u001b[0m\u001b[0;34m,\u001b[0m \u001b[0minit\u001b[0m\u001b[0;34m=\u001b[0m\u001b[0minit\u001b[0m\u001b[0;34m,\u001b[0m \u001b[0mverbose\u001b[0m\u001b[0;34m=\u001b[0m\u001b[0mverbose\u001b[0m\u001b[0;34m,\u001b[0m\u001b[0;34m\u001b[0m\u001b[0m\n\u001b[1;32m    345\u001b[0m                 \u001b[0mprecompute_distances\u001b[0m\u001b[0;34m=\u001b[0m\u001b[0mprecompute_distances\u001b[0m\u001b[0;34m,\u001b[0m \u001b[0mtol\u001b[0m\u001b[0;34m=\u001b[0m\u001b[0mtol\u001b[0m\u001b[0;34m,\u001b[0m\u001b[0;34m\u001b[0m\u001b[0m\n\u001b[0;32m--> 346\u001b[0;31m                 x_squared_norms=x_squared_norms, random_state=random_state)\n\u001b[0m\u001b[1;32m    347\u001b[0m             \u001b[0;31m# determine if these results are the best so far\u001b[0m\u001b[0;34m\u001b[0m\u001b[0;34m\u001b[0m\u001b[0m\n\u001b[1;32m    348\u001b[0m             \u001b[0;32mif\u001b[0m \u001b[0mbest_inertia\u001b[0m \u001b[0;32mis\u001b[0m \u001b[0;32mNone\u001b[0m \u001b[0;32mor\u001b[0m \u001b[0minertia\u001b[0m \u001b[0;34m<\u001b[0m \u001b[0mbest_inertia\u001b[0m\u001b[0;34m:\u001b[0m\u001b[0;34m\u001b[0m\u001b[0m\n",
      "\u001b[0;32m/opt/conda/lib/python3.6/site-packages/sklearn/cluster/k_means_.py\u001b[0m in \u001b[0;36m_kmeans_single_lloyd\u001b[0;34m(X, n_clusters, max_iter, init, verbose, x_squared_norms, random_state, tol, precompute_distances)\u001b[0m\n\u001b[1;32m    491\u001b[0m             _labels_inertia(X, x_squared_norms, centers,\n\u001b[1;32m    492\u001b[0m                             \u001b[0mprecompute_distances\u001b[0m\u001b[0;34m=\u001b[0m\u001b[0mprecompute_distances\u001b[0m\u001b[0;34m,\u001b[0m\u001b[0;34m\u001b[0m\u001b[0m\n\u001b[0;32m--> 493\u001b[0;31m                             distances=distances)\n\u001b[0m\u001b[1;32m    494\u001b[0m \u001b[0;34m\u001b[0m\u001b[0m\n\u001b[1;32m    495\u001b[0m         \u001b[0;31m# computation of the means is also called the M-step of EM\u001b[0m\u001b[0;34m\u001b[0m\u001b[0;34m\u001b[0m\u001b[0m\n",
      "\u001b[0;32m/opt/conda/lib/python3.6/site-packages/sklearn/cluster/k_means_.py\u001b[0m in \u001b[0;36m_labels_inertia\u001b[0;34m(X, x_squared_norms, centers, precompute_distances, distances)\u001b[0m\n\u001b[1;32m    618\u001b[0m         \u001b[0;32mif\u001b[0m \u001b[0mprecompute_distances\u001b[0m\u001b[0;34m:\u001b[0m\u001b[0;34m\u001b[0m\u001b[0m\n\u001b[1;32m    619\u001b[0m             return _labels_inertia_precompute_dense(X, x_squared_norms,\n\u001b[0;32m--> 620\u001b[0;31m                                                     centers, distances)\n\u001b[0m\u001b[1;32m    621\u001b[0m         inertia = _k_means._assign_labels_array(\n\u001b[1;32m    622\u001b[0m             X, x_squared_norms, centers, labels, distances=distances)\n",
      "\u001b[0;32m/opt/conda/lib/python3.6/site-packages/sklearn/cluster/k_means_.py\u001b[0m in \u001b[0;36m_labels_inertia_precompute_dense\u001b[0;34m(X, x_squared_norms, centers, distances)\u001b[0m\n\u001b[1;32m    561\u001b[0m     \u001b[0;31m# TODO: Once PR #7383 is merged use check_inputs=False in metric_kwargs.\u001b[0m\u001b[0;34m\u001b[0m\u001b[0;34m\u001b[0m\u001b[0m\n\u001b[1;32m    562\u001b[0m     labels, mindist = pairwise_distances_argmin_min(\n\u001b[0;32m--> 563\u001b[0;31m         X=X, Y=centers, metric='euclidean', metric_kwargs={'squared': True})\n\u001b[0m\u001b[1;32m    564\u001b[0m     \u001b[0;31m# cython k-means code assumes int32 inputs\u001b[0m\u001b[0;34m\u001b[0m\u001b[0;34m\u001b[0m\u001b[0m\n\u001b[1;32m    565\u001b[0m     \u001b[0mlabels\u001b[0m \u001b[0;34m=\u001b[0m \u001b[0mlabels\u001b[0m\u001b[0;34m.\u001b[0m\u001b[0mastype\u001b[0m\u001b[0;34m(\u001b[0m\u001b[0mnp\u001b[0m\u001b[0;34m.\u001b[0m\u001b[0mint32\u001b[0m\u001b[0;34m)\u001b[0m\u001b[0;34m\u001b[0m\u001b[0m\n",
      "\u001b[0;32m/opt/conda/lib/python3.6/site-packages/sklearn/metrics/pairwise.py\u001b[0m in \u001b[0;36mpairwise_distances_argmin_min\u001b[0;34m(X, Y, axis, metric, batch_size, metric_kwargs)\u001b[0m\n\u001b[1;32m    364\u001b[0m                                               dense_output=True)\n\u001b[1;32m    365\u001b[0m                     \u001b[0md_chunk\u001b[0m \u001b[0;34m*=\u001b[0m \u001b[0;34m-\u001b[0m\u001b[0;36m2\u001b[0m\u001b[0;34m\u001b[0m\u001b[0m\n\u001b[0;32m--> 366\u001b[0;31m                     \u001b[0md_chunk\u001b[0m \u001b[0;34m+=\u001b[0m \u001b[0mrow_norms\u001b[0m\u001b[0;34m(\u001b[0m\u001b[0mX_chunk\u001b[0m\u001b[0;34m,\u001b[0m \u001b[0msquared\u001b[0m\u001b[0;34m=\u001b[0m\u001b[0;32mTrue\u001b[0m\u001b[0;34m)\u001b[0m\u001b[0;34m[\u001b[0m\u001b[0;34m:\u001b[0m\u001b[0;34m,\u001b[0m \u001b[0mnp\u001b[0m\u001b[0;34m.\u001b[0m\u001b[0mnewaxis\u001b[0m\u001b[0;34m]\u001b[0m\u001b[0;34m\u001b[0m\u001b[0m\n\u001b[0m\u001b[1;32m    367\u001b[0m                     \u001b[0md_chunk\u001b[0m \u001b[0;34m+=\u001b[0m \u001b[0mrow_norms\u001b[0m\u001b[0;34m(\u001b[0m\u001b[0mY_chunk\u001b[0m\u001b[0;34m,\u001b[0m \u001b[0msquared\u001b[0m\u001b[0;34m=\u001b[0m\u001b[0;32mTrue\u001b[0m\u001b[0;34m)\u001b[0m\u001b[0;34m[\u001b[0m\u001b[0mnp\u001b[0m\u001b[0;34m.\u001b[0m\u001b[0mnewaxis\u001b[0m\u001b[0;34m,\u001b[0m \u001b[0;34m:\u001b[0m\u001b[0;34m]\u001b[0m\u001b[0;34m\u001b[0m\u001b[0m\n\u001b[1;32m    368\u001b[0m                     \u001b[0mnp\u001b[0m\u001b[0;34m.\u001b[0m\u001b[0mmaximum\u001b[0m\u001b[0;34m(\u001b[0m\u001b[0md_chunk\u001b[0m\u001b[0;34m,\u001b[0m \u001b[0;36m0\u001b[0m\u001b[0;34m,\u001b[0m \u001b[0md_chunk\u001b[0m\u001b[0;34m)\u001b[0m\u001b[0;34m\u001b[0m\u001b[0m\n",
      "\u001b[0;32m/opt/conda/lib/python3.6/site-packages/sklearn/utils/extmath.py\u001b[0m in \u001b[0;36mrow_norms\u001b[0;34m(X, squared)\u001b[0m\n\u001b[1;32m     66\u001b[0m         \u001b[0mnorms\u001b[0m \u001b[0;34m=\u001b[0m \u001b[0mcsr_row_norms\u001b[0m\u001b[0;34m(\u001b[0m\u001b[0mX\u001b[0m\u001b[0;34m)\u001b[0m\u001b[0;34m\u001b[0m\u001b[0m\n\u001b[1;32m     67\u001b[0m     \u001b[0;32melse\u001b[0m\u001b[0;34m:\u001b[0m\u001b[0;34m\u001b[0m\u001b[0m\n\u001b[0;32m---> 68\u001b[0;31m         \u001b[0mnorms\u001b[0m \u001b[0;34m=\u001b[0m \u001b[0mnp\u001b[0m\u001b[0;34m.\u001b[0m\u001b[0meinsum\u001b[0m\u001b[0;34m(\u001b[0m\u001b[0;34m'ij,ij->i'\u001b[0m\u001b[0;34m,\u001b[0m \u001b[0mX\u001b[0m\u001b[0;34m,\u001b[0m \u001b[0mX\u001b[0m\u001b[0;34m)\u001b[0m\u001b[0;34m\u001b[0m\u001b[0m\n\u001b[0m\u001b[1;32m     69\u001b[0m \u001b[0;34m\u001b[0m\u001b[0m\n\u001b[1;32m     70\u001b[0m     \u001b[0;32mif\u001b[0m \u001b[0;32mnot\u001b[0m \u001b[0msquared\u001b[0m\u001b[0;34m:\u001b[0m\u001b[0;34m\u001b[0m\u001b[0m\n",
      "\u001b[0;32m/opt/conda/lib/python3.6/site-packages/numpy/core/einsumfunc.py\u001b[0m in \u001b[0;36meinsum\u001b[0;34m(*operands, **kwargs)\u001b[0m\n\u001b[1;32m    946\u001b[0m     \u001b[0;31m# If no optimization, run pure einsum\u001b[0m\u001b[0;34m\u001b[0m\u001b[0;34m\u001b[0m\u001b[0m\n\u001b[1;32m    947\u001b[0m     \u001b[0;32mif\u001b[0m \u001b[0moptimize_arg\u001b[0m \u001b[0;32mis\u001b[0m \u001b[0;32mFalse\u001b[0m\u001b[0;34m:\u001b[0m\u001b[0;34m\u001b[0m\u001b[0m\n\u001b[0;32m--> 948\u001b[0;31m         \u001b[0;32mreturn\u001b[0m \u001b[0mc_einsum\u001b[0m\u001b[0;34m(\u001b[0m\u001b[0;34m*\u001b[0m\u001b[0moperands\u001b[0m\u001b[0;34m,\u001b[0m \u001b[0;34m**\u001b[0m\u001b[0mkwargs\u001b[0m\u001b[0;34m)\u001b[0m\u001b[0;34m\u001b[0m\u001b[0m\n\u001b[0m\u001b[1;32m    949\u001b[0m \u001b[0;34m\u001b[0m\u001b[0m\n\u001b[1;32m    950\u001b[0m     \u001b[0mvalid_einsum_kwargs\u001b[0m \u001b[0;34m=\u001b[0m \u001b[0;34m[\u001b[0m\u001b[0;34m'out'\u001b[0m\u001b[0;34m,\u001b[0m \u001b[0;34m'dtype'\u001b[0m\u001b[0;34m,\u001b[0m \u001b[0;34m'order'\u001b[0m\u001b[0;34m,\u001b[0m \u001b[0;34m'casting'\u001b[0m\u001b[0;34m]\u001b[0m\u001b[0;34m\u001b[0m\u001b[0m\n",
      "\u001b[0;31mKeyboardInterrupt\u001b[0m: "
     ]
    }
   ],
   "source": [
    "# Over a number of different cluster counts...\n",
    "# run k-means clustering on the data and...\n",
    "# compute the average within-cluster distances.\n",
    "scores = []\n",
    "ks = list(range(1,25))\n",
    "for i,k in enumerate(ks):\n",
    "    score = k_mean_score(X_pca_40, k)\n",
    "    scores.append(score)\n",
    "    print(str(i) + \": \" + str(score) )\n",
    "    "
   ]
  },
  {
   "cell_type": "code",
   "execution_count": null,
   "metadata": {},
   "outputs": [],
   "source": []
  },
  {
   "cell_type": "code",
   "execution_count": 88,
   "metadata": {},
   "outputs": [
    {
     "data": {
      "text/plain": [
       "Text(0,0.5,'SSE')"
      ]
     },
     "execution_count": 88,
     "metadata": {},
     "output_type": "execute_result"
    },
    {
     "data": {
      "image/png": "[encoded data removed]",
      "text/plain": [
       "<matplotlib.figure.Figure at 0x7f28f5983f98>"
      ]
     },
     "metadata": {
      "needs_background": "light"
     },
     "output_type": "display_data"
    }
   ],
   "source": [
    "# Investigate the change in within-cluster distance across number of clusters.\n",
    "# HINT: Use matplotlib's plot function to visualize this relationship.\n",
    "plt.plot(ks, scores, linestyle='-', marker='o')\n",
    "plt.xlabel('K')\n",
    "plt.ylabel('SSE')"
   ]
  },
  {
   "cell_type": "code",
   "execution_count": 23,
   "metadata": {},
   "outputs": [],
   "source": [
    "# Re-fit the k-means model with the selected number of clusters and obtain\n",
    "# cluster predictions for the general population demographics data.\n",
    "# from the plot above : i chose k = 15 \n",
    "\n",
    "kmeans = KMeans(n_clusters = 15)\n",
    "model_15 = kmeans.fit(X_pca_40)\n",
    "azdias_pred = model_15.predict(X_pca_40)\n"
   ]
  },
  {
   "cell_type": "code",
   "execution_count": 21,
   "metadata": {},
   "outputs": [
    {
     "data": {
      "text/plain": [
       "array([ 4,  3, 13, ...,  3,  6, 11], dtype=int32)"
      ]
     },
     "execution_count": 21,
     "metadata": {},
     "output_type": "execute_result"
    }
   ],
   "source": [
    "kmeans.labels_"
   ]
  },
  {
   "cell_type": "code",
   "execution_count": 22,
   "metadata": {},
   "outputs": [
    {
     "data": {
      "text/plain": [
       "array([[  5.30093042e+00,  -7.24907927e-01,  -2.19977088e+00,\n",
       "          7.28333387e-01,   2.17027859e-01,  -2.90363119e-01,\n",
       "         -7.17249795e-01,   7.44805051e-01,  -3.43712894e-01,\n",
       "          1.82578218e-01,  -3.36989084e-01,   5.16422721e-02,\n",
       "         -1.48440301e-02,  -1.13044626e-01,  -2.98873740e-02,\n",
       "         -6.50991993e-01,   2.16829883e-01,  -2.11340665e-01,\n",
       "          3.29069235e-03,  -9.15719580e-02,  -1.00362245e-01,\n",
       "          6.81994636e-02,   6.88057851e-02,  -8.50663014e-02,\n",
       "         -8.26318739e-02,   1.28723121e-02,  -1.58072892e-02,\n",
       "         -2.48830832e-02,  -1.90158287e-02,  -1.28822772e-01,\n",
       "         -7.44823151e-02,  -6.78704461e-02,  -1.52744524e-01,\n",
       "          1.32558044e-02,   7.87166057e-02,  -5.55167050e-04,\n",
       "         -2.53939389e-02,   4.52673913e-02,  -2.00955649e-02,\n",
       "         -9.89044712e-02],\n",
       "       [ -4.46778722e+00,   7.42054255e-01,   1.00576169e+00,\n",
       "          3.29509858e+00,  -3.48664795e-01,  -4.68674420e-01,\n",
       "         -1.48879005e+00,  -2.88773879e-01,  -3.42913386e-01,\n",
       "          7.95300405e-01,   2.06053770e-01,   6.54960599e-01,\n",
       "         -6.41983825e-01,   2.08267570e-01,  -1.50597332e-01,\n",
       "         -1.47808198e-01,  -2.76062298e-01,  -1.87773521e-01,\n",
       "          2.01133973e-01,  -7.68561838e-02,   2.01817054e-01,\n",
       "          9.57118284e-02,  -5.46595354e-04,   1.04661043e-01,\n",
       "         -1.25752727e-02,  -3.19553799e-02,  -1.63406764e-02,\n",
       "          2.70099399e-02,  -1.05944162e-01,   4.09198921e-02,\n",
       "         -1.30450629e-01,   4.41227223e-02,  -8.99592430e-02,\n",
       "          1.00971346e-02,  -7.01162734e-03,   1.24507911e-02,\n",
       "         -7.97217027e-02,   4.68067674e-02,  -5.15909151e-02,\n",
       "         -3.90324732e-02],\n",
       "       [ -3.59868117e+00,  -3.73642662e-01,   1.66120394e+00,\n",
       "         -2.65603505e+00,   1.01065240e+00,  -7.33936926e-01,\n",
       "         -2.80388600e-01,   5.32454973e-01,  -6.61161113e-01,\n",
       "         -4.54422380e-01,   2.39030590e-01,  -2.73080707e-01,\n",
       "          5.21515893e-01,   1.05082923e-02,   3.29975134e-01,\n",
       "          1.33971965e-01,   6.60608933e-01,  -2.45755787e-01,\n",
       "          1.21627257e-01,   1.10952783e-01,  -2.43831338e-01,\n",
       "         -7.30648239e-02,   4.19119240e-02,   4.46263539e-02,\n",
       "         -8.09076717e-02,  -9.53167937e-02,   3.32192276e-02,\n",
       "         -8.72033119e-02,  -7.95176190e-02,  -2.36135041e-02,\n",
       "          1.23783326e-03,   3.88231761e-02,  -4.12002969e-03,\n",
       "          1.16847172e-02,   6.93439827e-02,   7.60716028e-03,\n",
       "         -5.03396871e-02,  -6.79926596e-02,  -6.87132438e-02,\n",
       "         -9.17152801e-02],\n",
       "       [  1.08442929e+00,  -2.89243365e+00,  -2.82413218e+00,\n",
       "         -7.62443366e-01,  -1.77399555e+00,   1.42514484e-01,\n",
       "         -4.03896155e-01,   4.79806614e-01,  -9.31285467e-02,\n",
       "         -5.70698820e-02,  -2.92576557e-01,  -2.51451845e-01,\n",
       "         -1.18959255e-01,   1.15271810e-02,  -5.12943130e-03,\n",
       "         -1.41850467e-01,  -5.66331690e-02,  -1.53763220e-01,\n",
       "          2.11828179e-01,  -3.74777656e-01,   1.17117494e-01,\n",
       "         -1.02656380e-01,   1.29182256e-01,   2.21543043e-01,\n",
       "          1.46145028e-01,   2.15734125e-01,  -2.50357280e-02,\n",
       "          5.34139819e-02,   1.23713579e-01,   5.01517512e-02,\n",
       "         -3.26173889e-01,   1.75999070e-01,   4.75067141e-02,\n",
       "          1.10710693e-01,   9.42534860e-02,   1.19183809e-02,\n",
       "         -7.68954469e-02,   2.65642271e-02,   2.47591188e-02,\n",
       "         -4.61122856e-02],\n",
       "       [  1.09999580e+00,  -2.45188172e+00,  -2.08951127e+00,\n",
       "          2.17427102e-01,   3.05563147e-01,  -7.20648964e-01,\n",
       "          1.26845515e+00,  -2.60234125e+00,   1.34412686e+00,\n",
       "         -7.76159570e-01,   5.60026819e+00,   2.41889390e+00,\n",
       "          1.83781927e+00,   6.00067909e-01,   7.00145554e-02,\n",
       "         -3.65793012e-01,  -4.30787147e-01,   3.45254289e-01,\n",
       "         -2.57854231e-01,   5.07710727e-01,  -4.96714423e-01,\n",
       "          1.86484492e-01,  -4.48336267e-01,   5.26764538e-02,\n",
       "          1.72976237e-01,   2.96999288e-01,  -1.39887986e-01,\n",
       "         -1.05060928e-02,  -7.24496161e-02,  -2.19070892e-01,\n",
       "          3.40314370e-01,   2.91328854e-02,  -5.44931047e-03,\n",
       "          1.79992241e-01,  -3.52891290e-02,  -1.18647824e-02,\n",
       "          1.60286050e-01,   3.87895416e-02,  -7.29951222e-02,\n",
       "         -1.36228898e-01],\n",
       "       [  1.68724300e+00,   4.71623577e+00,  -1.73988927e+00,\n",
       "          1.41364508e-01,   4.96747290e-01,   9.49581014e-02,\n",
       "          1.72686814e-01,  -9.84812329e-02,  -1.03943453e-01,\n",
       "          2.97900636e-01,  -1.77921959e-01,  -1.05330706e-01,\n",
       "          4.95470941e-02,  -1.38338081e-01,  -9.61388533e-02,\n",
       "          1.82870742e-01,   1.84977716e-02,   7.61133655e-02,\n",
       "         -7.80472525e-02,  -4.61509244e-02,   4.87699998e-02,\n",
       "          3.30681965e-02,  -1.31422078e-01,  -6.85198921e-02,\n",
       "         -1.23859726e-01,  -5.43231411e-02,   1.85508157e-01,\n",
       "          6.65056464e-02,   1.22690093e-01,  -1.78476112e-03,\n",
       "          4.00062247e-02,   4.13149258e-02,   8.50719163e-02,\n",
       "         -2.39836506e-02,  -2.08244325e-01,  -6.93454140e-02,\n",
       "          3.81606177e-02,  -2.68880490e-02,   2.10047620e-02,\n",
       "          1.90519903e-01],\n",
       "       [  4.93808784e+00,  -1.98737780e+00,   2.79647526e+00,\n",
       "         -3.39095576e-01,  -1.98249747e-02,  -2.10687795e-03,\n",
       "         -4.39673981e-01,   4.33891353e-02,  -1.17345375e-01,\n",
       "          6.30500378e-01,  -1.22534842e-01,   1.76328972e-01,\n",
       "         -9.65789590e-02,  -6.23523528e-01,  -7.56516936e-02,\n",
       "          2.67438358e-01,   2.44160329e-01,  -7.80308268e-02,\n",
       "         -1.09788062e-01,   3.08411223e-01,   1.72512690e-01,\n",
       "         -1.60375287e-02,  -1.95778240e-01,   4.93131355e-01,\n",
       "         -2.07760183e-01,  -5.14684519e-02,  -7.19696039e-04,\n",
       "          6.48459923e-02,  -5.39080901e-02,  -7.86713628e-02,\n",
       "          2.27330143e-01,  -1.14557201e-01,  -8.00136747e-02,\n",
       "         -2.48224280e-02,   1.27305740e-01,   1.67200452e-02,\n",
       "          2.45317468e-02,   4.85474268e-02,  -5.45452740e-02,\n",
       "         -6.04319099e-02],\n",
       "       [  5.25139590e-02,   2.43420428e+00,   1.95690067e+00,\n",
       "          1.24053225e+00,  -1.90535879e+00,   5.58719509e-01,\n",
       "          8.56770447e-01,  -9.48379950e-01,   3.22820776e-01,\n",
       "         -1.30220270e+00,  -2.89081948e-01,  -1.42183177e+00,\n",
       "          1.21372824e+00,   2.84672248e-01,   1.54249345e-01,\n",
       "          4.20400740e-01,   1.61371340e-01,  -7.67868045e-02,\n",
       "          1.14015365e-01,  -2.37341399e-01,   4.52332896e-02,\n",
       "         -1.23636342e-01,   3.34839304e-01,  -1.91120578e-01,\n",
       "          6.88988895e-02,  -3.85794256e-02,   3.85025214e-02,\n",
       "         -3.62904761e-01,   3.09334469e-02,  -9.55741544e-02,\n",
       "          1.84565590e-01,   1.51350000e-02,  -2.73728045e-01,\n",
       "          1.84542514e-01,   5.94995651e-01,  -1.23756857e-01,\n",
       "          5.98743869e-02,   1.61918450e-01,   1.66133674e-01,\n",
       "         -1.18321163e-01],\n",
       "       [ -1.77571998e+00,  -3.48124069e+00,  -6.00541309e-01,\n",
       "          9.35217922e-01,   1.93363094e+00,  -1.47132749e+00,\n",
       "          2.90826745e+00,  -2.30808383e+00,   6.00634953e-01,\n",
       "          8.76111040e-02,  -2.33280308e+00,  -3.61712592e-01,\n",
       "         -1.37529247e+00,  -2.03031880e-01,   3.05573089e-01,\n",
       "         -1.25745491e+00,   4.09760102e-01,   2.31525850e-02,\n",
       "         -5.43151661e-02,   2.10755314e-01,  -1.65630857e-01,\n",
       "          5.74154396e-02,  -1.80701381e-01,   8.36920576e-02,\n",
       "          7.46678338e-02,   2.90040159e-01,  -3.01285964e-01,\n",
       "         -2.88786201e-02,  -1.87323738e-02,  -1.25962178e-01,\n",
       "          2.92196950e-01,   4.96148538e-02,  -1.57483069e-01,\n",
       "          1.14412928e-01,   7.91554543e-02,  -2.86102783e-02,\n",
       "          1.16706246e-01,   4.99507869e-02,  -1.58096070e-02,\n",
       "         -9.40584069e-02],\n",
       "       [ -1.56339733e+00,  -3.87504696e+00,  -2.33801051e+00,\n",
       "          1.90768046e+00,   1.73525082e-01,   8.30207585e-01,\n",
       "         -5.83215367e-01,   3.07573231e-01,  -3.69384946e-01,\n",
       "          9.27056961e-02,  -4.56734605e-01,  -9.49861167e-01,\n",
       "          1.04185215e+00,   2.93297477e-01,  -5.78141703e-02,\n",
       "          6.94826393e-01,  -3.20086875e-01,   6.92431443e-01,\n",
       "         -1.59824035e-01,   3.71828915e-01,  -3.47916152e-01,\n",
       "         -1.16831058e-01,   2.12735546e-01,  -4.22121743e-01,\n",
       "          1.62574665e-01,  -3.89490811e-01,   3.26297419e-01,\n",
       "         -3.41781259e-02,   5.05729714e-02,   4.07568690e-01,\n",
       "         -1.44004742e-01,   5.18777988e-02,   4.74206157e-01,\n",
       "         -2.12957825e-01,  -4.48350291e-01,   2.73564788e-02,\n",
       "          2.62624672e-02,  -4.07634212e-01,   2.68144302e-01,\n",
       "          1.72161005e-01],\n",
       "       [ -1.86407184e+00,   2.03073677e+00,  -1.55835041e+00,\n",
       "         -1.96603625e+00,  -1.89671332e+00,   1.34752909e+00,\n",
       "          2.54931560e-01,  -8.94058767e-01,   4.69411429e-01,\n",
       "          2.78157510e-01,  -4.57067955e-01,  -1.33319338e-02,\n",
       "         -4.28241358e-01,   4.94377368e-01,  -2.65167737e-01,\n",
       "          3.38635792e-01,  -5.60026777e-01,   1.69399071e-01,\n",
       "          1.84731623e-01,  -5.72544787e-02,   2.56937633e-01,\n",
       "          1.30114204e-01,   1.20527665e-01,   2.68993218e-01,\n",
       "         -1.53185980e-01,   3.27187457e-03,  -2.71338008e-01,\n",
       "          5.15430803e-02,  -8.77830207e-02,   1.29849728e-01,\n",
       "          6.54078523e-02,  -6.48353660e-02,  -4.20708716e-02,\n",
       "         -3.90720755e-02,   1.29247935e-02,   3.06824481e-02,\n",
       "         -3.51516222e-02,   6.53799452e-02,  -1.61794762e-01,\n",
       "          5.13480005e-02],\n",
       "       [  2.26437762e+00,   2.75965850e+00,   2.65664705e+00,\n",
       "         -7.88061935e-01,   5.72692167e-01,  -5.03888410e-02,\n",
       "          1.57236559e-01,  -2.20360955e-01,  -2.61000516e-01,\n",
       "         -2.03285662e-01,  -2.06325365e-02,   1.54977615e-01,\n",
       "         -2.85600662e-01,   6.49012019e-01,   1.52695062e-01,\n",
       "          1.08395732e-01,  -4.20637843e-01,   1.16509383e-02,\n",
       "          8.40687493e-02,  -2.31774112e-01,  -2.64185363e-01,\n",
       "         -3.11697909e-02,   1.48630828e-01,  -2.01476391e-01,\n",
       "          1.75668641e-01,   7.98274058e-02,  -8.42980289e-02,\n",
       "          1.18087964e-01,   8.43694921e-02,   1.54318958e-01,\n",
       "         -2.01446264e-01,   5.02307533e-02,   2.51477506e-01,\n",
       "         -6.05435820e-02,  -1.39939759e-01,   1.20190469e-01,\n",
       "          8.67103830e-02,  -1.17790089e-01,   1.06195782e-01,\n",
       "          1.80251958e-02],\n",
       "       [ -2.14500662e+00,  -2.57958147e-01,   9.26372787e-01,\n",
       "          1.22477467e+00,   8.45156567e-01,   2.10336135e+00,\n",
       "          2.23024082e+00,   4.04223434e+00,   2.71991066e+00,\n",
       "         -1.42916295e+00,   4.71143082e-01,   1.20346003e+00,\n",
       "         -1.40515991e+00,  -1.14802786e+00,  -9.47287891e-02,\n",
       "          1.75167883e-02,  -5.50883968e-01,   3.21738444e-01,\n",
       "         -9.63618295e-01,  -4.81636476e-01,   2.08950778e-01,\n",
       "         -1.06463339e-01,  -8.84904283e-02,  -8.60383879e-02,\n",
       "          1.15302232e-01,  -2.30092553e-01,   1.61743984e-02,\n",
       "         -1.52854015e-01,   1.30162848e-01,  -4.26810578e-02,\n",
       "          1.17685473e-01,  -1.57893636e-02,  -1.09016227e-01,\n",
       "         -1.10625279e-04,   3.07849311e-02,  -2.32614721e-02,\n",
       "          5.65691928e-02,   6.57822637e-02,  -3.30712131e-02,\n",
       "          1.44402150e-02],\n",
       "       [ -4.07167371e+00,   1.00895565e+00,  -2.27629164e+00,\n",
       "         -1.97063450e+00,   1.12089144e+00,  -7.50637253e-01,\n",
       "         -3.60848677e-01,   8.16192546e-01,  -6.90014532e-01,\n",
       "         -3.34039200e-01,   1.80868281e-01,  -6.53322484e-01,\n",
       "          5.94004796e-01,  -1.84201836e-01,  -3.93985592e-02,\n",
       "         -7.38012060e-02,   6.52935036e-01,  -1.67703142e-01,\n",
       "         -6.43519926e-02,   4.38995149e-01,   1.14467508e-01,\n",
       "         -2.44855575e-02,  -5.13964798e-02,  -8.18578019e-02,\n",
       "         -7.43454653e-02,   2.40704358e-02,   1.34617013e-01,\n",
       "         -9.93116105e-03,  -8.68941616e-02,  -9.26916400e-02,\n",
       "          9.52912939e-02,  -1.47343389e-01,  -2.95521125e-02,\n",
       "         -1.50684604e-02,   3.76127026e-02,   7.96173835e-03,\n",
       "         -8.56797162e-02,   6.38431269e-02,   3.89108838e-02,\n",
       "         -4.82104180e-02],\n",
       "       [ -2.56867484e-01,  -4.80470043e+00,   2.43606172e+00,\n",
       "         -6.54970352e-01,  -9.54455104e-01,   4.81126301e-01,\n",
       "         -4.41568972e-01,  -8.79487897e-02,  -1.22898108e-01,\n",
       "          4.46962075e-01,  -1.07052669e-01,  -3.66656890e-01,\n",
       "          3.51492714e-01,  -4.27515538e-01,  -1.20972996e-01,\n",
       "          5.57164850e-01,  -5.75723325e-03,   2.52418378e-01,\n",
       "          1.18260530e-01,   5.09046991e-02,   2.26346864e-01,\n",
       "         -6.71462703e-02,  -9.79409906e-02,  -3.41295088e-01,\n",
       "          1.19582633e-01,  -4.17932009e-02,   1.01930866e-01,\n",
       "          6.21916229e-02,  -4.40532650e-03,  -2.60804112e-02,\n",
       "         -6.61369459e-02,  -9.93699966e-02,   7.68874304e-02,\n",
       "         -1.49746566e-01,  -1.80648161e-01,  -6.07811149e-02,\n",
       "         -8.10665182e-02,  -1.50288813e-02,  -4.59341309e-02,\n",
       "          2.35751307e-01]])"
      ]
     },
     "execution_count": 22,
     "metadata": {},
     "output_type": "execute_result"
    }
   ],
   "source": [
    "kmeans.cluster_centers_"
   ]
  },
  {
   "cell_type": "markdown",
   "metadata": {},
   "source": [
    "### Discussion 3.1: Apply Clustering to General Population\n",
    "\n",
    "(Double-click this cell and replace this text with your own text, reporting your findings and decisions regarding clustering. Into how many clusters have you decided to segment the population?)"
   ]
  },
  {
   "cell_type": "markdown",
   "metadata": {},
   "source": [
    "### Step 3.2: Apply All Steps to the Customer Data\n",
    "\n",
    "Now that you have clusters and cluster centers for the general population, it's time to see how the customer data maps on to those clusters. Take care to not confuse this for re-fitting all of the models to the customer data. Instead, you're going to use the fits from the general population to clean, transform, and cluster the customer data. In the last step of the project, you will interpret how the general population fits apply to the customer data.\n",
    "\n",
    "- Don't forget when loading in the customers data, that it is semicolon (`;`) delimited.\n",
    "- Apply the same feature wrangling, selection, and engineering steps to the customer demographics using the `clean_data()` function you created earlier. (You can assume that the customer demographics data has similar meaning behind missing data patterns as the general demographics data.)\n",
    "- Use the sklearn objects from the general demographics data, and apply their transformations to the customers data. That is, you should not be using a `.fit()` or `.fit_transform()` method to re-fit the old objects, nor should you be creating new sklearn objects! Carry the data through the feature scaling, PCA, and clustering steps, obtaining cluster assignments for all of the data in the customer demographics data."
   ]
  },
  {
   "cell_type": "code",
   "execution_count": 48,
   "metadata": {},
   "outputs": [],
   "source": [
    "# Load in the customer demographics data.\n",
    "customers = pd.read_csv('Udacity_CUSTOMERS_Subset.csv', sep=';')"
   ]
  },
  {
   "cell_type": "code",
   "execution_count": 49,
   "metadata": {},
   "outputs": [
    {
     "name": "stdout",
     "output_type": "stream",
     "text": [
      "\n",
      "• Step1.1 :Number of  missing values before is 2252274\n",
      "\n",
      "• Step1.2 : Total number of missing values after conversion is 3112918\n",
      "\n",
      "• Step2 : azdias number of rows after Nans treatment 191652 , while number of columns 32\n",
      "\n",
      "• Step3.1: Number of rows missing more than 10% of the data is 93 , while number of rows missing less than 10% 191559\n",
      "\n",
      "• Step3.2 number of rows after column cleaning 191559 , number of columns 32\n",
      "\n",
      "• Step5 Number of rows after dealing with Multi and Binary Categorical data 191559 , while number of columns 65\n",
      "\n",
      "• Step6 Number of rows after dealing with Mixed Features is 191559 , number of columns 65\n"
     ]
    }
   ],
   "source": [
    "# Apply preprocessing, feature transformation, and clustering from the general\n",
    "# demographics onto the customer data, obtaining cluster predictions for the\n",
    "# customer demographics data.\n",
    "customers_clean = clean_data(customers)"
   ]
  },
  {
   "cell_type": "code",
   "execution_count": 50,
   "metadata": {},
   "outputs": [
    {
     "data": {
      "text/html": [
       "<div>\n",
       "<style scoped>\n",
       "    .dataframe tbody tr th:only-of-type {\n",
       "        vertical-align: middle;\n",
       "    }\n",
       "\n",
       "    .dataframe tbody tr th {\n",
       "        vertical-align: top;\n",
       "    }\n",
       "\n",
       "    .dataframe thead th {\n",
       "        text-align: right;\n",
       "    }\n",
       "</style>\n",
       "<table border=\"1\" class=\"dataframe\">\n",
       "  <thead>\n",
       "    <tr style=\"text-align: right;\">\n",
       "      <th></th>\n",
       "      <th>CJT_GESAMTTYP_2.0</th>\n",
       "      <th>CJT_GESAMTTYP_3.0</th>\n",
       "      <th>CJT_GESAMTTYP_4.0</th>\n",
       "      <th>CJT_GESAMTTYP_5.0</th>\n",
       "      <th>CJT_GESAMTTYP_6.0</th>\n",
       "      <th>FINANZTYP_2</th>\n",
       "      <th>FINANZTYP_3</th>\n",
       "      <th>FINANZTYP_4</th>\n",
       "      <th>FINANZTYP_5</th>\n",
       "      <th>FINANZTYP_6</th>\n",
       "      <th>GFK_URLAUBERTYP_2.0</th>\n",
       "      <th>GFK_URLAUBERTYP_3.0</th>\n",
       "      <th>GFK_URLAUBERTYP_4.0</th>\n",
       "      <th>GFK_URLAUBERTYP_5.0</th>\n",
       "      <th>GFK_URLAUBERTYP_6.0</th>\n",
       "      <th>GFK_URLAUBERTYP_7.0</th>\n",
       "      <th>GFK_URLAUBERTYP_8.0</th>\n",
       "      <th>GFK_URLAUBERTYP_9.0</th>\n",
       "      <th>GFK_URLAUBERTYP_10.0</th>\n",
       "      <th>GFK_URLAUBERTYP_11.0</th>\n",
       "      <th>GFK_URLAUBERTYP_12.0</th>\n",
       "      <th>LP_STATUS_FEIN_2.0</th>\n",
       "      <th>LP_STATUS_FEIN_3.0</th>\n",
       "      <th>LP_STATUS_FEIN_4.0</th>\n",
       "      <th>LP_STATUS_FEIN_5.0</th>\n",
       "      <th>LP_STATUS_FEIN_6.0</th>\n",
       "      <th>LP_STATUS_FEIN_7.0</th>\n",
       "      <th>LP_STATUS_FEIN_8.0</th>\n",
       "      <th>LP_STATUS_FEIN_9.0</th>\n",
       "      <th>LP_STATUS_FEIN_10.0</th>\n",
       "      <th>LP_STATUS_GROB_2.0</th>\n",
       "      <th>LP_STATUS_GROB_3.0</th>\n",
       "      <th>LP_STATUS_GROB_4.0</th>\n",
       "      <th>LP_STATUS_GROB_5.0</th>\n",
       "      <th>ZABEOTYP_2</th>\n",
       "      <th>ZABEOTYP_3</th>\n",
       "      <th>ZABEOTYP_4</th>\n",
       "      <th>ZABEOTYP_5</th>\n",
       "      <th>ZABEOTYP_6</th>\n",
       "      <th>ALTERSKATEGORIE_GROB</th>\n",
       "      <th>ANREDE_KZ</th>\n",
       "      <th>FINANZ_MINIMALIST</th>\n",
       "      <th>FINANZ_SPARER</th>\n",
       "      <th>FINANZ_VORSORGER</th>\n",
       "      <th>FINANZ_ANLEGER</th>\n",
       "      <th>FINANZ_UNAUFFAELLIGER</th>\n",
       "      <th>FINANZ_HAUSBAUER</th>\n",
       "      <th>GREEN_AVANTGARDE</th>\n",
       "      <th>RETOURTYP_BK_S</th>\n",
       "      <th>SEMIO_SOZ</th>\n",
       "      <th>SEMIO_FAM</th>\n",
       "      <th>SEMIO_REL</th>\n",
       "      <th>SEMIO_MAT</th>\n",
       "      <th>SEMIO_VERT</th>\n",
       "      <th>SEMIO_LUST</th>\n",
       "      <th>SEMIO_ERL</th>\n",
       "      <th>SEMIO_KULT</th>\n",
       "      <th>SEMIO_RAT</th>\n",
       "      <th>SEMIO_KRIT</th>\n",
       "      <th>SEMIO_DOM</th>\n",
       "      <th>SEMIO_KAEM</th>\n",
       "      <th>SEMIO_PFLICHT</th>\n",
       "      <th>SEMIO_TRADV</th>\n",
       "      <th>HH_EINKOMMEN_SCORE</th>\n",
       "      <th>ONLINE_AFFINITAET</th>\n",
       "    </tr>\n",
       "  </thead>\n",
       "  <tbody>\n",
       "    <tr>\n",
       "      <th>0</th>\n",
       "      <td>0</td>\n",
       "      <td>0</td>\n",
       "      <td>0</td>\n",
       "      <td>1</td>\n",
       "      <td>0</td>\n",
       "      <td>1</td>\n",
       "      <td>0</td>\n",
       "      <td>0</td>\n",
       "      <td>0</td>\n",
       "      <td>0</td>\n",
       "      <td>0</td>\n",
       "      <td>0</td>\n",
       "      <td>1</td>\n",
       "      <td>0</td>\n",
       "      <td>0</td>\n",
       "      <td>0</td>\n",
       "      <td>0</td>\n",
       "      <td>0</td>\n",
       "      <td>0</td>\n",
       "      <td>0</td>\n",
       "      <td>0</td>\n",
       "      <td>0</td>\n",
       "      <td>0</td>\n",
       "      <td>0</td>\n",
       "      <td>0</td>\n",
       "      <td>0</td>\n",
       "      <td>0</td>\n",
       "      <td>0</td>\n",
       "      <td>0</td>\n",
       "      <td>1</td>\n",
       "      <td>0</td>\n",
       "      <td>0</td>\n",
       "      <td>0</td>\n",
       "      <td>1</td>\n",
       "      <td>0</td>\n",
       "      <td>1</td>\n",
       "      <td>0</td>\n",
       "      <td>0</td>\n",
       "      <td>0</td>\n",
       "      <td>4.0</td>\n",
       "      <td>1</td>\n",
       "      <td>5</td>\n",
       "      <td>1</td>\n",
       "      <td>5</td>\n",
       "      <td>1</td>\n",
       "      <td>2</td>\n",
       "      <td>2</td>\n",
       "      <td>1</td>\n",
       "      <td>5.0</td>\n",
       "      <td>6</td>\n",
       "      <td>5</td>\n",
       "      <td>2</td>\n",
       "      <td>6</td>\n",
       "      <td>6</td>\n",
       "      <td>7</td>\n",
       "      <td>3</td>\n",
       "      <td>4</td>\n",
       "      <td>1</td>\n",
       "      <td>3</td>\n",
       "      <td>1</td>\n",
       "      <td>1</td>\n",
       "      <td>2</td>\n",
       "      <td>1</td>\n",
       "      <td>1.0</td>\n",
       "      <td>3.0</td>\n",
       "    </tr>\n",
       "    <tr>\n",
       "      <th>2</th>\n",
       "      <td>1</td>\n",
       "      <td>0</td>\n",
       "      <td>0</td>\n",
       "      <td>0</td>\n",
       "      <td>0</td>\n",
       "      <td>1</td>\n",
       "      <td>0</td>\n",
       "      <td>0</td>\n",
       "      <td>0</td>\n",
       "      <td>0</td>\n",
       "      <td>0</td>\n",
       "      <td>1</td>\n",
       "      <td>0</td>\n",
       "      <td>0</td>\n",
       "      <td>0</td>\n",
       "      <td>0</td>\n",
       "      <td>0</td>\n",
       "      <td>0</td>\n",
       "      <td>0</td>\n",
       "      <td>0</td>\n",
       "      <td>0</td>\n",
       "      <td>0</td>\n",
       "      <td>0</td>\n",
       "      <td>0</td>\n",
       "      <td>0</td>\n",
       "      <td>0</td>\n",
       "      <td>0</td>\n",
       "      <td>0</td>\n",
       "      <td>0</td>\n",
       "      <td>1</td>\n",
       "      <td>0</td>\n",
       "      <td>0</td>\n",
       "      <td>0</td>\n",
       "      <td>1</td>\n",
       "      <td>0</td>\n",
       "      <td>1</td>\n",
       "      <td>0</td>\n",
       "      <td>0</td>\n",
       "      <td>0</td>\n",
       "      <td>4.0</td>\n",
       "      <td>2</td>\n",
       "      <td>5</td>\n",
       "      <td>1</td>\n",
       "      <td>5</td>\n",
       "      <td>1</td>\n",
       "      <td>4</td>\n",
       "      <td>4</td>\n",
       "      <td>1</td>\n",
       "      <td>5.0</td>\n",
       "      <td>2</td>\n",
       "      <td>2</td>\n",
       "      <td>1</td>\n",
       "      <td>3</td>\n",
       "      <td>3</td>\n",
       "      <td>7</td>\n",
       "      <td>7</td>\n",
       "      <td>1</td>\n",
       "      <td>2</td>\n",
       "      <td>7</td>\n",
       "      <td>5</td>\n",
       "      <td>6</td>\n",
       "      <td>4</td>\n",
       "      <td>1</td>\n",
       "      <td>1.0</td>\n",
       "      <td>1.0</td>\n",
       "    </tr>\n",
       "    <tr>\n",
       "      <th>3</th>\n",
       "      <td>1</td>\n",
       "      <td>0</td>\n",
       "      <td>0</td>\n",
       "      <td>0</td>\n",
       "      <td>0</td>\n",
       "      <td>0</td>\n",
       "      <td>0</td>\n",
       "      <td>0</td>\n",
       "      <td>0</td>\n",
       "      <td>1</td>\n",
       "      <td>0</td>\n",
       "      <td>0</td>\n",
       "      <td>0</td>\n",
       "      <td>0</td>\n",
       "      <td>0</td>\n",
       "      <td>0</td>\n",
       "      <td>0</td>\n",
       "      <td>0</td>\n",
       "      <td>1</td>\n",
       "      <td>0</td>\n",
       "      <td>0</td>\n",
       "      <td>0</td>\n",
       "      <td>0</td>\n",
       "      <td>0</td>\n",
       "      <td>0</td>\n",
       "      <td>0</td>\n",
       "      <td>0</td>\n",
       "      <td>0</td>\n",
       "      <td>1</td>\n",
       "      <td>0</td>\n",
       "      <td>0</td>\n",
       "      <td>0</td>\n",
       "      <td>1</td>\n",
       "      <td>0</td>\n",
       "      <td>0</td>\n",
       "      <td>0</td>\n",
       "      <td>0</td>\n",
       "      <td>0</td>\n",
       "      <td>0</td>\n",
       "      <td>4.0</td>\n",
       "      <td>1</td>\n",
       "      <td>5</td>\n",
       "      <td>1</td>\n",
       "      <td>5</td>\n",
       "      <td>2</td>\n",
       "      <td>1</td>\n",
       "      <td>2</td>\n",
       "      <td>0</td>\n",
       "      <td>3.0</td>\n",
       "      <td>6</td>\n",
       "      <td>5</td>\n",
       "      <td>3</td>\n",
       "      <td>4</td>\n",
       "      <td>7</td>\n",
       "      <td>5</td>\n",
       "      <td>3</td>\n",
       "      <td>4</td>\n",
       "      <td>3</td>\n",
       "      <td>3</td>\n",
       "      <td>3</td>\n",
       "      <td>3</td>\n",
       "      <td>3</td>\n",
       "      <td>4</td>\n",
       "      <td>4.0</td>\n",
       "      <td>2.0</td>\n",
       "    </tr>\n",
       "    <tr>\n",
       "      <th>4</th>\n",
       "      <td>0</td>\n",
       "      <td>0</td>\n",
       "      <td>0</td>\n",
       "      <td>0</td>\n",
       "      <td>1</td>\n",
       "      <td>1</td>\n",
       "      <td>0</td>\n",
       "      <td>0</td>\n",
       "      <td>0</td>\n",
       "      <td>0</td>\n",
       "      <td>1</td>\n",
       "      <td>0</td>\n",
       "      <td>0</td>\n",
       "      <td>0</td>\n",
       "      <td>0</td>\n",
       "      <td>0</td>\n",
       "      <td>0</td>\n",
       "      <td>0</td>\n",
       "      <td>0</td>\n",
       "      <td>0</td>\n",
       "      <td>0</td>\n",
       "      <td>0</td>\n",
       "      <td>0</td>\n",
       "      <td>0</td>\n",
       "      <td>0</td>\n",
       "      <td>0</td>\n",
       "      <td>0</td>\n",
       "      <td>0</td>\n",
       "      <td>0</td>\n",
       "      <td>0</td>\n",
       "      <td>0</td>\n",
       "      <td>0</td>\n",
       "      <td>0</td>\n",
       "      <td>0</td>\n",
       "      <td>0</td>\n",
       "      <td>0</td>\n",
       "      <td>0</td>\n",
       "      <td>0</td>\n",
       "      <td>0</td>\n",
       "      <td>3.0</td>\n",
       "      <td>1</td>\n",
       "      <td>3</td>\n",
       "      <td>1</td>\n",
       "      <td>4</td>\n",
       "      <td>4</td>\n",
       "      <td>5</td>\n",
       "      <td>2</td>\n",
       "      <td>0</td>\n",
       "      <td>5.0</td>\n",
       "      <td>4</td>\n",
       "      <td>5</td>\n",
       "      <td>4</td>\n",
       "      <td>6</td>\n",
       "      <td>5</td>\n",
       "      <td>6</td>\n",
       "      <td>4</td>\n",
       "      <td>5</td>\n",
       "      <td>5</td>\n",
       "      <td>3</td>\n",
       "      <td>5</td>\n",
       "      <td>2</td>\n",
       "      <td>5</td>\n",
       "      <td>4</td>\n",
       "      <td>6.0</td>\n",
       "      <td>5.0</td>\n",
       "    </tr>\n",
       "    <tr>\n",
       "      <th>5</th>\n",
       "      <td>0</td>\n",
       "      <td>0</td>\n",
       "      <td>1</td>\n",
       "      <td>0</td>\n",
       "      <td>0</td>\n",
       "      <td>0</td>\n",
       "      <td>0</td>\n",
       "      <td>0</td>\n",
       "      <td>1</td>\n",
       "      <td>0</td>\n",
       "      <td>0</td>\n",
       "      <td>0</td>\n",
       "      <td>0</td>\n",
       "      <td>0</td>\n",
       "      <td>0</td>\n",
       "      <td>0</td>\n",
       "      <td>0</td>\n",
       "      <td>0</td>\n",
       "      <td>0</td>\n",
       "      <td>1</td>\n",
       "      <td>0</td>\n",
       "      <td>0</td>\n",
       "      <td>0</td>\n",
       "      <td>0</td>\n",
       "      <td>0</td>\n",
       "      <td>0</td>\n",
       "      <td>1</td>\n",
       "      <td>0</td>\n",
       "      <td>0</td>\n",
       "      <td>0</td>\n",
       "      <td>0</td>\n",
       "      <td>1</td>\n",
       "      <td>0</td>\n",
       "      <td>0</td>\n",
       "      <td>1</td>\n",
       "      <td>0</td>\n",
       "      <td>0</td>\n",
       "      <td>0</td>\n",
       "      <td>0</td>\n",
       "      <td>3.0</td>\n",
       "      <td>1</td>\n",
       "      <td>5</td>\n",
       "      <td>1</td>\n",
       "      <td>5</td>\n",
       "      <td>1</td>\n",
       "      <td>2</td>\n",
       "      <td>3</td>\n",
       "      <td>1</td>\n",
       "      <td>3.0</td>\n",
       "      <td>6</td>\n",
       "      <td>4</td>\n",
       "      <td>4</td>\n",
       "      <td>1</td>\n",
       "      <td>7</td>\n",
       "      <td>6</td>\n",
       "      <td>4</td>\n",
       "      <td>6</td>\n",
       "      <td>2</td>\n",
       "      <td>5</td>\n",
       "      <td>5</td>\n",
       "      <td>3</td>\n",
       "      <td>3</td>\n",
       "      <td>4</td>\n",
       "      <td>1.0</td>\n",
       "      <td>3.0</td>\n",
       "    </tr>\n",
       "  </tbody>\n",
       "</table>\n",
       "</div>"
      ],
      "text/plain": [
       "   CJT_GESAMTTYP_2.0  CJT_GESAMTTYP_3.0  CJT_GESAMTTYP_4.0  CJT_GESAMTTYP_5.0  \\\n",
       "0                  0                  0                  0                  1   \n",
       "2                  1                  0                  0                  0   \n",
       "3                  1                  0                  0                  0   \n",
       "4                  0                  0                  0                  0   \n",
       "5                  0                  0                  1                  0   \n",
       "\n",
       "   CJT_GESAMTTYP_6.0  FINANZTYP_2  FINANZTYP_3  FINANZTYP_4  FINANZTYP_5  \\\n",
       "0                  0            1            0            0            0   \n",
       "2                  0            1            0            0            0   \n",
       "3                  0            0            0            0            0   \n",
       "4                  1            1            0            0            0   \n",
       "5                  0            0            0            0            1   \n",
       "\n",
       "   FINANZTYP_6  GFK_URLAUBERTYP_2.0  GFK_URLAUBERTYP_3.0  GFK_URLAUBERTYP_4.0  \\\n",
       "0            0                    0                    0                    1   \n",
       "2            0                    0                    1                    0   \n",
       "3            1                    0                    0                    0   \n",
       "4            0                    1                    0                    0   \n",
       "5            0                    0                    0                    0   \n",
       "\n",
       "   GFK_URLAUBERTYP_5.0  GFK_URLAUBERTYP_6.0  GFK_URLAUBERTYP_7.0  \\\n",
       "0                    0                    0                    0   \n",
       "2                    0                    0                    0   \n",
       "3                    0                    0                    0   \n",
       "4                    0                    0                    0   \n",
       "5                    0                    0                    0   \n",
       "\n",
       "   GFK_URLAUBERTYP_8.0  GFK_URLAUBERTYP_9.0  GFK_URLAUBERTYP_10.0  \\\n",
       "0                    0                    0                     0   \n",
       "2                    0                    0                     0   \n",
       "3                    0                    0                     1   \n",
       "4                    0                    0                     0   \n",
       "5                    0                    0                     0   \n",
       "\n",
       "   GFK_URLAUBERTYP_11.0  GFK_URLAUBERTYP_12.0  LP_STATUS_FEIN_2.0  \\\n",
       "0                     0                     0                   0   \n",
       "2                     0                     0                   0   \n",
       "3                     0                     0                   0   \n",
       "4                     0                     0                   0   \n",
       "5                     1                     0                   0   \n",
       "\n",
       "   LP_STATUS_FEIN_3.0  LP_STATUS_FEIN_4.0  LP_STATUS_FEIN_5.0  \\\n",
       "0                   0                   0                   0   \n",
       "2                   0                   0                   0   \n",
       "3                   0                   0                   0   \n",
       "4                   0                   0                   0   \n",
       "5                   0                   0                   0   \n",
       "\n",
       "   LP_STATUS_FEIN_6.0  LP_STATUS_FEIN_7.0  LP_STATUS_FEIN_8.0  \\\n",
       "0                   0                   0                   0   \n",
       "2                   0                   0                   0   \n",
       "3                   0                   0                   0   \n",
       "4                   0                   0                   0   \n",
       "5                   0                   1                   0   \n",
       "\n",
       "   LP_STATUS_FEIN_9.0  LP_STATUS_FEIN_10.0  LP_STATUS_GROB_2.0  \\\n",
       "0                   0                    1                   0   \n",
       "2                   0                    1                   0   \n",
       "3                   1                    0                   0   \n",
       "4                   0                    0                   0   \n",
       "5                   0                    0                   0   \n",
       "\n",
       "   LP_STATUS_GROB_3.0  LP_STATUS_GROB_4.0  LP_STATUS_GROB_5.0  ZABEOTYP_2  \\\n",
       "0                   0                   0                   1           0   \n",
       "2                   0                   0                   1           0   \n",
       "3                   0                   1                   0           0   \n",
       "4                   0                   0                   0           0   \n",
       "5                   1                   0                   0           1   \n",
       "\n",
       "   ZABEOTYP_3  ZABEOTYP_4  ZABEOTYP_5  ZABEOTYP_6  ALTERSKATEGORIE_GROB  \\\n",
       "0           1           0           0           0                   4.0   \n",
       "2           1           0           0           0                   4.0   \n",
       "3           0           0           0           0                   4.0   \n",
       "4           0           0           0           0                   3.0   \n",
       "5           0           0           0           0                   3.0   \n",
       "\n",
       "   ANREDE_KZ  FINANZ_MINIMALIST  FINANZ_SPARER  FINANZ_VORSORGER  \\\n",
       "0          1                  5              1                 5   \n",
       "2          2                  5              1                 5   \n",
       "3          1                  5              1                 5   \n",
       "4          1                  3              1                 4   \n",
       "5          1                  5              1                 5   \n",
       "\n",
       "   FINANZ_ANLEGER  FINANZ_UNAUFFAELLIGER  FINANZ_HAUSBAUER  GREEN_AVANTGARDE  \\\n",
       "0               1                      2                 2                 1   \n",
       "2               1                      4                 4                 1   \n",
       "3               2                      1                 2                 0   \n",
       "4               4                      5                 2                 0   \n",
       "5               1                      2                 3                 1   \n",
       "\n",
       "   RETOURTYP_BK_S  SEMIO_SOZ  SEMIO_FAM  SEMIO_REL  SEMIO_MAT  SEMIO_VERT  \\\n",
       "0             5.0          6          5          2          6           6   \n",
       "2             5.0          2          2          1          3           3   \n",
       "3             3.0          6          5          3          4           7   \n",
       "4             5.0          4          5          4          6           5   \n",
       "5             3.0          6          4          4          1           7   \n",
       "\n",
       "   SEMIO_LUST  SEMIO_ERL  SEMIO_KULT  SEMIO_RAT  SEMIO_KRIT  SEMIO_DOM  \\\n",
       "0           7          3           4          1           3          1   \n",
       "2           7          7           1          2           7          5   \n",
       "3           5          3           4          3           3          3   \n",
       "4           6          4           5          5           3          5   \n",
       "5           6          4           6          2           5          5   \n",
       "\n",
       "   SEMIO_KAEM  SEMIO_PFLICHT  SEMIO_TRADV  HH_EINKOMMEN_SCORE  \\\n",
       "0           1              2            1                 1.0   \n",
       "2           6              4            1                 1.0   \n",
       "3           3              3            4                 4.0   \n",
       "4           2              5            4                 6.0   \n",
       "5           3              3            4                 1.0   \n",
       "\n",
       "   ONLINE_AFFINITAET  \n",
       "0                3.0  \n",
       "2                1.0  \n",
       "3                2.0  \n",
       "4                5.0  \n",
       "5                3.0  "
      ]
     },
     "execution_count": 50,
     "metadata": {},
     "output_type": "execute_result"
    }
   ],
   "source": [
    "customers_clean.head()"
   ]
  },
  {
   "cell_type": "code",
   "execution_count": 62,
   "metadata": {},
   "outputs": [],
   "source": [
    "# Impute NANS and SCALE the data - same way as before \n",
    "from sklearn.preprocessing import Imputer\n",
    "from sklearn.preprocessing import StandardScaler\n",
    "\n",
    "imputer = Imputer(strategy='most_frequent')\n",
    "scaler = StandardScaler() "
   ]
  },
  {
   "cell_type": "code",
   "execution_count": 63,
   "metadata": {},
   "outputs": [],
   "source": [
    "customers_CI = pd.DataFrame(imputer.fit_transform(customers_clean) , columns=customers_clean.columns , index = customers_clean.index)"
   ]
  },
  {
   "cell_type": "code",
   "execution_count": 64,
   "metadata": {},
   "outputs": [],
   "source": [
    "customers_CIS = pd.DataFrame(scaler.fit_transform(customers_CI),columns=customers_clean.columns , index = customers_clean.index)"
   ]
  },
  {
   "cell_type": "code",
   "execution_count": 30,
   "metadata": {},
   "outputs": [],
   "source": [
    "#pca_all2, X_pca_all2 = do_pca(customers_CIS)"
   ]
  },
  {
   "cell_type": "code",
   "execution_count": 31,
   "metadata": {},
   "outputs": [
    {
     "data": {
      "image/png": "[encoded data removed]",
      "text/plain": [
       "<matplotlib.figure.Figure at 0x7fdd24319dd8>"
      ]
     },
     "metadata": {
      "needs_background": "light"
     },
     "output_type": "display_data"
    }
   ],
   "source": [
    "#plotvariance(pca_all2)"
   ]
  },
  {
   "cell_type": "code",
   "execution_count": 32,
   "metadata": {},
   "outputs": [],
   "source": [
    "# from the sketch i chose 30 PCAs"
   ]
  },
  {
   "cell_type": "code",
   "execution_count": 35,
   "metadata": {},
   "outputs": [],
   "source": [
    "#pca_all2_30, X_pca_all2_30 = do_pca(customers_CIS,30)"
   ]
  },
  {
   "cell_type": "code",
   "execution_count": 36,
   "metadata": {},
   "outputs": [
    {
     "name": "stdout",
     "output_type": "stream",
     "text": [
      "0: 10827908.8941\n",
      "1: 8449421.886\n",
      "2: 7599035.63792\n",
      "3: 7171660.20785\n",
      "4: 6828500.69913\n",
      "5: 6589400.46137\n",
      "6: 6280781.6836\n",
      "7: 6073290.85414\n",
      "8: 5892372.45683\n",
      "9: 5754132.34946\n",
      "10: 5603899.50685\n",
      "11: 5494671.98797\n",
      "12: 5367929.28408\n",
      "13: 5175445.26047\n",
      "14: 5046453.6518\n",
      "15: 4971480.57226\n",
      "16: 4890333.28542\n",
      "17: 4725753.53601\n",
      "18: 4694296.13043\n"
     ]
    }
   ],
   "source": [
    "#scores = []\n",
    "#ks = list(range(1,20))\n",
    "#for i,k in enumerate(ks):\n",
    "#    score = k_mean_score(X_pca_all2_30, k)\n",
    "#    scores.append(score)\n",
    "#    print(str(i) + \": \" + str(score) )\n",
    "    "
   ]
  },
  {
   "cell_type": "code",
   "execution_count": 37,
   "metadata": {},
   "outputs": [
    {
     "data": {
      "text/plain": [
       "Text(0,0.5,'SSE')"
      ]
     },
     "execution_count": 37,
     "metadata": {},
     "output_type": "execute_result"
    },
    {
     "data": {
      "image/png": "[encoded data removed]",
      "text/plain": [
       "<matplotlib.figure.Figure at 0x7fdd7dc98860>"
      ]
     },
     "metadata": {
      "needs_background": "light"
     },
     "output_type": "display_data"
    }
   ],
   "source": [
    "#plt.plot(ks, scores, linestyle='-', marker='o')\n",
    "#plt.xlabel('K')\n",
    "#plt.ylabel('SSE')"
   ]
  },
  {
   "cell_type": "code",
   "execution_count": null,
   "metadata": {},
   "outputs": [],
   "source": [
    "# from tthe sketch above i chose k=12\n",
    "# pca_40, X_pca_40"
   ]
  },
  {
   "cell_type": "code",
   "execution_count": 65,
   "metadata": {},
   "outputs": [],
   "source": [
    "customers_pca = pca_40.fit_transform(customers_CIS)"
   ]
  },
  {
   "cell_type": "code",
   "execution_count": 66,
   "metadata": {},
   "outputs": [],
   "source": [
    "customers_predict = model_15.predict(customers_pca)"
   ]
  },
  {
   "cell_type": "code",
   "execution_count": 67,
   "metadata": {},
   "outputs": [
    {
     "data": {
      "text/plain": [
       "{0, 1, 2, 3, 4, 5, 6, 7, 8, 9, 10, 11, 12, 13, 14}"
      ]
     },
     "execution_count": 67,
     "metadata": {},
     "output_type": "execute_result"
    }
   ],
   "source": [
    "set(customers_predict.tolist())"
   ]
  },
  {
   "cell_type": "markdown",
   "metadata": {},
   "source": [
    "### Step 3.3: Compare Customer Data to Demographics Data\n",
    "\n",
    "At this point, you have clustered data based on demographics of the general population of Germany, and seen how the customer data for a mail-order sales company maps onto those demographic clusters. In this final substep, you will compare the two cluster distributions to see where the strongest customer base for the company is.\n",
    "\n",
    "Consider the proportion of persons in each cluster for the general population, and the proportions for the customers. If we think the company's customer base to be universal, then the cluster assignment proportions should be fairly similar between the two. If there are only particular segments of the population that are interested in the company's products, then we should see a mismatch from one to the other. If there is a higher proportion of persons in a cluster for the customer data compared to the general population (e.g. 5% of persons are assigned to a cluster for the general population, but 15% of the customer data is closest to that cluster's centroid) then that suggests the people in that cluster to be a target audience for the company. On the other hand, the proportion of the data in a cluster being larger in the general population than the customer data (e.g. only 2% of customers closest to a population centroid that captures 6% of the data) suggests that group of persons to be outside of the target demographics.\n",
    "\n",
    "Take a look at the following points in this step:\n",
    "\n",
    "- Compute the proportion of data points in each cluster for the general population and the customer data. Visualizations will be useful here: both for the individual dataset proportions, but also to visualize the ratios in cluster representation between groups. Seaborn's [`countplot()`](https://seaborn.pydata.org/generated/seaborn.countplot.html) or [`barplot()`](https://seaborn.pydata.org/generated/seaborn.barplot.html) function could be handy.\n",
    "  - Recall the analysis you performed in step 1.1.3 of the project, where you separated out certain data points from the dataset if they had more than a specified threshold of missing values. If you found that this group was qualitatively different from the main bulk of the data, you should treat this as an additional data cluster in this analysis. Make sure that you account for the number of data points in this subset, for both the general population and customer datasets, when making your computations!\n",
    "- Which cluster or clusters are overrepresented in the customer dataset compared to the general population? Select at least one such cluster and infer what kind of people might be represented by that cluster. Use the principal component interpretations from step 2.3 or look at additional components to help you make this inference. Alternatively, you can use the `.inverse_transform()` method of the PCA and StandardScaler objects to transform centroids back to the original data space and interpret the retrieved values directly.\n",
    "- Perform a similar investigation for the underrepresented clusters. Which cluster or clusters are underrepresented in the customer dataset compared to the general population, and what kinds of people are typified by these clusters?"
   ]
  },
  {
   "cell_type": "code",
   "execution_count": null,
   "metadata": {},
   "outputs": [],
   "source": [
    "# Compare the proportion of data in each cluster for the customer data to the\n",
    "# proportion of data in each cluster for the general population.\n",
    "\n"
   ]
  },
  {
   "cell_type": "code",
   "execution_count": null,
   "metadata": {},
   "outputs": [],
   "source": [
    "# What kinds of people are part of a cluster that is overrepresented in the\n",
    "# customer data compared to the general population?\n",
    "\n"
   ]
  },
  {
   "cell_type": "code",
   "execution_count": null,
   "metadata": {},
   "outputs": [],
   "source": [
    "# What kinds of people are part of a cluster that is underrepresented in the\n",
    "# customer data compared to the general population?\n",
    "\n"
   ]
  },
  {
   "cell_type": "markdown",
   "metadata": {},
   "source": [
    "### Discussion 3.3: Compare Customer Data to Demographics Data\n",
    "\n",
    "(Double-click this cell and replace this text with your own text, reporting findings and conclusions from the clustering analysis. Can we describe segments of the population that are relatively popular with the mail-order company, or relatively unpopular with the company?)"
   ]
  },
  {
   "cell_type": "markdown",
   "metadata": {},
   "source": [
    "> Congratulations on making it this far in the project! Before you finish, make sure to check through the entire notebook from top to bottom to make sure that your analysis follows a logical flow and all of your findings are documented in **Discussion** cells. Once you've checked over all of your work, you should export the notebook as an HTML document to submit for evaluation. You can do this from the menu, navigating to **File -> Download as -> HTML (.html)**. You will submit both that document and this notebook for your project submission."
   ]
  },
  {
   "cell_type": "code",
   "execution_count": null,
   "metadata": {},
   "outputs": [],
   "source": []
  }
 ],
 "metadata": {
  "kernelspec": {
   "display_name": "Python 3",
   "language": "python",
   "name": "python3"
  },
  "language_info": {
   "codemirror_mode": {
    "name": "ipython",
    "version": 3
   },
   "file_extension": ".py",
   "mimetype": "text/x-python",
   "name": "python",
   "nbconvert_exporter": "python",
   "pygments_lexer": "ipython3",
   "version": "3.6.3"
  }
 },
 "nbformat": 4,
 "nbformat_minor": 2
}
